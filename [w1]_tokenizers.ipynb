{
  "cells": [
    {
      "cell_type": "markdown",
      "metadata": {
        "id": "view-in-github",
        "colab_type": "text"
      },
      "source": [
        "<a href=\"https://colab.research.google.com/github/jinseriouspark/embedding_for_all/blob/main/%5Bw1%5D_tokenizers.ipynb\" target=\"_parent\"><img src=\"https://colab.research.google.com/assets/colab-badge.svg\" alt=\"Open In Colab\"/></a>"
      ]
    },
    {
      "cell_type": "markdown",
      "metadata": {
        "id": "KJDz_gKKyHU8"
      },
      "source": [
        "# Tokenizers\n",
        "1. SentencePiece\n",
        "2. BPE from scratch (Sentencepiece paper : [link](https://https://aclanthology.org/P16-1162/))\n",
        "3. Morphem BPE"
      ]
    },
    {
      "cell_type": "markdown",
      "source": [
        "## 1. SentencePiece\n",
        "\n",
        "\n",
        "- 참고자료 : https://devocean.sk.com/blog/techBoardDetail.do?ID=164570&boardType=techBlog\n",
        "-https://process-mining.tistory.com/191"
      ],
      "metadata": {
        "id": "BVbJqbGfDVC6"
      }
    },
    {
      "cell_type": "code",
      "execution_count": null,
      "metadata": {
        "id": "CJx86GEByAmR",
        "colab": {
          "base_uri": "https://localhost:8080/"
        },
        "outputId": "8f83988f-1817-4d6e-d884-40c46f07f805"
      },
      "outputs": [
        {
          "output_type": "stream",
          "name": "stdout",
          "text": [
            "Requirement already satisfied: sentencepiece in /usr/local/lib/python3.10/dist-packages (0.1.99)\n",
            "Collecting datasets\n",
            "  Downloading datasets-2.18.0-py3-none-any.whl (510 kB)\n",
            "\u001b[2K     \u001b[90m━━━━━━━━━━━━━━━━━━━━━━━━━━━━━━━━━━━━━━━━\u001b[0m \u001b[32m510.5/510.5 kB\u001b[0m \u001b[31m10.2 MB/s\u001b[0m eta \u001b[36m0:00:00\u001b[0m\n",
            "\u001b[?25hRequirement already satisfied: filelock in /usr/local/lib/python3.10/dist-packages (from datasets) (3.13.1)\n",
            "Requirement already satisfied: numpy>=1.17 in /usr/local/lib/python3.10/dist-packages (from datasets) (1.25.2)\n",
            "Requirement already satisfied: pyarrow>=12.0.0 in /usr/local/lib/python3.10/dist-packages (from datasets) (14.0.2)\n",
            "Requirement already satisfied: pyarrow-hotfix in /usr/local/lib/python3.10/dist-packages (from datasets) (0.6)\n",
            "Collecting dill<0.3.9,>=0.3.0 (from datasets)\n",
            "  Downloading dill-0.3.8-py3-none-any.whl (116 kB)\n",
            "\u001b[2K     \u001b[90m━━━━━━━━━━━━━━━━━━━━━━━━━━━━━━━━━━━━━━━━\u001b[0m \u001b[32m116.3/116.3 kB\u001b[0m \u001b[31m13.9 MB/s\u001b[0m eta \u001b[36m0:00:00\u001b[0m\n",
            "\u001b[?25hRequirement already satisfied: pandas in /usr/local/lib/python3.10/dist-packages (from datasets) (1.5.3)\n",
            "Requirement already satisfied: requests>=2.19.0 in /usr/local/lib/python3.10/dist-packages (from datasets) (2.31.0)\n",
            "Requirement already satisfied: tqdm>=4.62.1 in /usr/local/lib/python3.10/dist-packages (from datasets) (4.66.2)\n",
            "Collecting xxhash (from datasets)\n",
            "  Downloading xxhash-3.4.1-cp310-cp310-manylinux_2_17_x86_64.manylinux2014_x86_64.whl (194 kB)\n",
            "\u001b[2K     \u001b[90m━━━━━━━━━━━━━━━━━━━━━━━━━━━━━━━━━━━━━━━━\u001b[0m \u001b[32m194.1/194.1 kB\u001b[0m \u001b[31m20.5 MB/s\u001b[0m eta \u001b[36m0:00:00\u001b[0m\n",
            "\u001b[?25hCollecting multiprocess (from datasets)\n",
            "  Downloading multiprocess-0.70.16-py310-none-any.whl (134 kB)\n",
            "\u001b[2K     \u001b[90m━━━━━━━━━━━━━━━━━━━━━━━━━━━━━━━━━━━━━━━━\u001b[0m \u001b[32m134.8/134.8 kB\u001b[0m \u001b[31m12.0 MB/s\u001b[0m eta \u001b[36m0:00:00\u001b[0m\n",
            "\u001b[?25hRequirement already satisfied: fsspec[http]<=2024.2.0,>=2023.1.0 in /usr/local/lib/python3.10/dist-packages (from datasets) (2023.6.0)\n",
            "Requirement already satisfied: aiohttp in /usr/local/lib/python3.10/dist-packages (from datasets) (3.9.3)\n",
            "Requirement already satisfied: huggingface-hub>=0.19.4 in /usr/local/lib/python3.10/dist-packages (from datasets) (0.20.3)\n",
            "Requirement already satisfied: packaging in /usr/local/lib/python3.10/dist-packages (from datasets) (24.0)\n",
            "Requirement already satisfied: pyyaml>=5.1 in /usr/local/lib/python3.10/dist-packages (from datasets) (6.0.1)\n",
            "Requirement already satisfied: aiosignal>=1.1.2 in /usr/local/lib/python3.10/dist-packages (from aiohttp->datasets) (1.3.1)\n",
            "Requirement already satisfied: attrs>=17.3.0 in /usr/local/lib/python3.10/dist-packages (from aiohttp->datasets) (23.2.0)\n",
            "Requirement already satisfied: frozenlist>=1.1.1 in /usr/local/lib/python3.10/dist-packages (from aiohttp->datasets) (1.4.1)\n",
            "Requirement already satisfied: multidict<7.0,>=4.5 in /usr/local/lib/python3.10/dist-packages (from aiohttp->datasets) (6.0.5)\n",
            "Requirement already satisfied: yarl<2.0,>=1.0 in /usr/local/lib/python3.10/dist-packages (from aiohttp->datasets) (1.9.4)\n",
            "Requirement already satisfied: async-timeout<5.0,>=4.0 in /usr/local/lib/python3.10/dist-packages (from aiohttp->datasets) (4.0.3)\n",
            "Requirement already satisfied: typing-extensions>=3.7.4.3 in /usr/local/lib/python3.10/dist-packages (from huggingface-hub>=0.19.4->datasets) (4.10.0)\n",
            "Requirement already satisfied: charset-normalizer<4,>=2 in /usr/local/lib/python3.10/dist-packages (from requests>=2.19.0->datasets) (3.3.2)\n",
            "Requirement already satisfied: idna<4,>=2.5 in /usr/local/lib/python3.10/dist-packages (from requests>=2.19.0->datasets) (3.6)\n",
            "Requirement already satisfied: urllib3<3,>=1.21.1 in /usr/local/lib/python3.10/dist-packages (from requests>=2.19.0->datasets) (2.0.7)\n",
            "Requirement already satisfied: certifi>=2017.4.17 in /usr/local/lib/python3.10/dist-packages (from requests>=2.19.0->datasets) (2024.2.2)\n",
            "Requirement already satisfied: python-dateutil>=2.8.1 in /usr/local/lib/python3.10/dist-packages (from pandas->datasets) (2.8.2)\n",
            "Requirement already satisfied: pytz>=2020.1 in /usr/local/lib/python3.10/dist-packages (from pandas->datasets) (2023.4)\n",
            "Requirement already satisfied: six>=1.5 in /usr/local/lib/python3.10/dist-packages (from python-dateutil>=2.8.1->pandas->datasets) (1.16.0)\n",
            "Installing collected packages: xxhash, dill, multiprocess, datasets\n",
            "Successfully installed datasets-2.18.0 dill-0.3.8 multiprocess-0.70.16 xxhash-3.4.1\n",
            "Requirement already satisfied: transformers in /usr/local/lib/python3.10/dist-packages (4.38.2)\n",
            "Requirement already satisfied: filelock in /usr/local/lib/python3.10/dist-packages (from transformers) (3.13.1)\n",
            "Requirement already satisfied: huggingface-hub<1.0,>=0.19.3 in /usr/local/lib/python3.10/dist-packages (from transformers) (0.20.3)\n",
            "Requirement already satisfied: numpy>=1.17 in /usr/local/lib/python3.10/dist-packages (from transformers) (1.25.2)\n",
            "Requirement already satisfied: packaging>=20.0 in /usr/local/lib/python3.10/dist-packages (from transformers) (24.0)\n",
            "Requirement already satisfied: pyyaml>=5.1 in /usr/local/lib/python3.10/dist-packages (from transformers) (6.0.1)\n",
            "Requirement already satisfied: regex!=2019.12.17 in /usr/local/lib/python3.10/dist-packages (from transformers) (2023.12.25)\n",
            "Requirement already satisfied: requests in /usr/local/lib/python3.10/dist-packages (from transformers) (2.31.0)\n",
            "Requirement already satisfied: tokenizers<0.19,>=0.14 in /usr/local/lib/python3.10/dist-packages (from transformers) (0.15.2)\n",
            "Requirement already satisfied: safetensors>=0.4.1 in /usr/local/lib/python3.10/dist-packages (from transformers) (0.4.2)\n",
            "Requirement already satisfied: tqdm>=4.27 in /usr/local/lib/python3.10/dist-packages (from transformers) (4.66.2)\n",
            "Requirement already satisfied: fsspec>=2023.5.0 in /usr/local/lib/python3.10/dist-packages (from huggingface-hub<1.0,>=0.19.3->transformers) (2023.6.0)\n",
            "Requirement already satisfied: typing-extensions>=3.7.4.3 in /usr/local/lib/python3.10/dist-packages (from huggingface-hub<1.0,>=0.19.3->transformers) (4.10.0)\n",
            "Requirement already satisfied: charset-normalizer<4,>=2 in /usr/local/lib/python3.10/dist-packages (from requests->transformers) (3.3.2)\n",
            "Requirement already satisfied: idna<4,>=2.5 in /usr/local/lib/python3.10/dist-packages (from requests->transformers) (3.6)\n",
            "Requirement already satisfied: urllib3<3,>=1.21.1 in /usr/local/lib/python3.10/dist-packages (from requests->transformers) (2.0.7)\n",
            "Requirement already satisfied: certifi>=2017.4.17 in /usr/local/lib/python3.10/dist-packages (from requests->transformers) (2024.2.2)\n"
          ]
        }
      ],
      "source": [
        "!pip install sentencepiece\n",
        "!pip install datasets\n",
        "!pip install transformers"
      ]
    },
    {
      "cell_type": "markdown",
      "metadata": {
        "id": "7cHC2hXwyd1h"
      },
      "source": [
        "### Training & inference & save & upload\n",
        "\n",
        "- corpus를 subword단위로 쪼갠 다음, 빈도수를 계산해 높은 빈도로 함께 등장한 subword를 병합해 학습할 거에요.\n",
        "- 적절한 subword 를 파악하기 위해서는 사전에 정리된 corpus도 필요해요.\n",
        "- 이미 만들어져있는 nsmc를 사용하려고 합니다. (허깅페이스 데이터셋에서도 다운받을 수 있어요)\n",
        "  - 링크1 : https://github.com/e9t/nsmc\n",
        "  - 링크2 : https://huggingface.co/datasets/nsmc"
      ]
    },
    {
      "cell_type": "code",
      "execution_count": null,
      "metadata": {
        "colab": {
          "base_uri": "https://localhost:8080/",
          "height": 277,
          "referenced_widgets": [
            "88ce2c2a1e684440847ddf380721484c",
            "71cea400cd7c4a44a1659ff466e43ec1",
            "ef78bcfd20664609b2ffd60b51d5d0ea",
            "d819dea2197c4ccc85d9d10884d3fefc",
            "ec4d06acb79044069bf076ff45542332",
            "911575569a0e4973982146c4274c8721",
            "037cab96769f42c893ed25f763c2e7e7",
            "1ce27dd115984cb095267984822b500b",
            "7048c0f2c83e4efb87758e94baf6844b",
            "ba855fbdd5544a2cadc811c6d150f66c",
            "a735aca3153449f1a7177f379acbe003",
            "6d8bcaf051164ad3b699e6cd7916a9da",
            "cd437aa8afcc43e6ba02e38549d1344a",
            "0e538b20ff4d40a1989d9db44fdc3326",
            "bec06aa043d9495e940f0dd89a8aa70b",
            "8b25b0e03b3e401eb12a30aaf254d221",
            "d1666ca8be2247b4b11dc9da104e9339",
            "90d6cf36b4054d5092587d288ae0c780",
            "65557332994844e8b0f1a340635c968e",
            "70cc22d2b3274d6082f9e3e60801f7f6",
            "4ff88dce1baf44c4a398b31ca15cc464",
            "53b1964b19af4ed385b9bb57c6cfd806",
            "ed8e66b676044cff99429eae408d5176",
            "d2d66eaf24c74b63a1b38afb3a9fb1d5",
            "f49118bdbbb64432ae411a3c8b5046f8",
            "ca73438dcd6c4a75a9f055338967d5ee",
            "90dc53ac4b1e46dc87e1193cc78ff757",
            "148ea195129c4caab46493ea504a0af5",
            "bc26bb3f35204ce39b8b87f91b9c3747",
            "6bce60a34e894c2bbffa6400efcc2201",
            "e1c9878a5c574c1e96896624139f18bf",
            "a1923c2117d744efba95f467bf52f4db",
            "dbc53c4e9b584ef28a4fab300e866796",
            "a455fee73c4348869b92fd3e444fac62",
            "3a4e7e8f370c457cbefb1ac6190a64ba",
            "078ee0b2a5094d33a4fcc1a2bff15b64",
            "fe1265364cf24d8586671f5416bbc270",
            "9d594c5060d545578eaff40427806219",
            "48ecbd89e4c24683a1c131b4401b99c5",
            "27891027661148d6bc7a5e5b41ffa2a6",
            "c61a47c6ea8d430babf1b8a2112428d6",
            "936030d62ad54686b5ddd8433cccb79d",
            "42abc8c413cf42c5ab95caecdd965e5b",
            "bc56a43efbc74fb2a231bd54b3af5ed0"
          ]
        },
        "id": "ckmYIQUqycvu",
        "outputId": "809fdb36-a9e8-419a-cf45-31faa624f837"
      },
      "outputs": [
        {
          "output_type": "stream",
          "name": "stderr",
          "text": [
            "/usr/local/lib/python3.10/dist-packages/huggingface_hub/utils/_token.py:88: UserWarning: \n",
            "The secret `HF_TOKEN` does not exist in your Colab secrets.\n",
            "To authenticate with the Hugging Face Hub, create a token in your settings tab (https://huggingface.co/settings/tokens), set it as secret in your Google Colab and restart your session.\n",
            "You will be able to reuse this secret in all of your notebooks.\n",
            "Please note that authentication is recommended but still optional to access public models or datasets.\n",
            "  warnings.warn(\n"
          ]
        },
        {
          "output_type": "display_data",
          "data": {
            "text/plain": [
              "Downloading data:   0%|          | 0.00/11.1M [00:00<?, ?B/s]"
            ],
            "application/vnd.jupyter.widget-view+json": {
              "version_major": 2,
              "version_minor": 0,
              "model_id": "88ce2c2a1e684440847ddf380721484c"
            }
          },
          "metadata": {}
        },
        {
          "output_type": "display_data",
          "data": {
            "text/plain": [
              "Downloading data:   0%|          | 0.00/3.71M [00:00<?, ?B/s]"
            ],
            "application/vnd.jupyter.widget-view+json": {
              "version_major": 2,
              "version_minor": 0,
              "model_id": "6d8bcaf051164ad3b699e6cd7916a9da"
            }
          },
          "metadata": {}
        },
        {
          "output_type": "display_data",
          "data": {
            "text/plain": [
              "Generating train split:   0%|          | 0/150000 [00:00<?, ? examples/s]"
            ],
            "application/vnd.jupyter.widget-view+json": {
              "version_major": 2,
              "version_minor": 0,
              "model_id": "ed8e66b676044cff99429eae408d5176"
            }
          },
          "metadata": {}
        },
        {
          "output_type": "display_data",
          "data": {
            "text/plain": [
              "Generating test split:   0%|          | 0/50000 [00:00<?, ? examples/s]"
            ],
            "application/vnd.jupyter.widget-view+json": {
              "version_major": 2,
              "version_minor": 0,
              "model_id": "a455fee73c4348869b92fd3e444fac62"
            }
          },
          "metadata": {}
        }
      ],
      "source": [
        "from tqdm import tqdm\n",
        "from datasets import load_dataset\n",
        "import os\n",
        "\n",
        "data_dir = './data'\n",
        "dataset = load_dataset('nsmc')\n",
        "os.makedirs(data_dir, exist_ok = True)\n",
        "for split_key in dataset.keys():\n",
        "  doc_path = f'{data_dir}/{split_key}.txt'\n",
        "  with open(doc_path, 'w') as f:\n",
        "    for doc in dataset[split_key]['document']:\n",
        "      f.write(doc + '\\n')"
      ]
    },
    {
      "cell_type": "code",
      "execution_count": null,
      "metadata": {
        "id": "G8oLVkyy0SxM",
        "outputId": "f8029a59-f7b7-4aa3-97b9-ac179407c2a7",
        "colab": {
          "base_uri": "https://localhost:8080/"
        }
      },
      "outputs": [
        {
          "output_type": "execute_result",
          "data": {
            "text/plain": [
              "['굳 ㅋ',\n",
              " 'GDNTOPCLASSINTHECLUB',\n",
              " '뭐야 이 평점들은.... 나쁘진 않지만 10점 짜리는 더더욱 아니잖아',\n",
              " '지루하지는 않은데 완전 막장임... 돈주고 보기에는....',\n",
              " '3D만 아니었어도 별 다섯 개 줬을텐데.. 왜 3D로 나와서 제 심기를 불편하게 하죠??',\n",
              " '음악이 주가 된, 최고의 음악영화',\n",
              " '진정한 쓰레기',\n",
              " '마치 미국애니에서 튀어나온듯한 창의력없는 로봇디자인부터가,고개를 젖게한다',\n",
              " '갈수록 개판되가는 중국영화 유치하고 내용없음 폼잡다 끝남 말도안되는 무기에 유치한cg남무 아 그립다 동사서독같은 영화가 이건 3류아류작이다',\n",
              " '이별의 아픔뒤에 찾아오는 새로운 인연의 기쁨 But, 모든 사람이 그렇지는 않네..']"
            ]
          },
          "metadata": {},
          "execution_count": 3
        }
      ],
      "source": [
        "def load_data(file_path):\n",
        "  with open(file_path, 'r', encoding = 'utf-8') as f:\n",
        "    data = f.readlines()\n",
        "  return [d.strip() for d in data]\n",
        "\n",
        "korean_train = load_data('/content/data/train.txt')\n",
        "korean_train[:10]\n",
        "\n",
        "korean_test = load_data('/content/data/test.txt')\n",
        "korean_test[:10]"
      ]
    },
    {
      "cell_type": "code",
      "execution_count": null,
      "metadata": {
        "id": "ZHwFhQOo02Ik"
      },
      "outputs": [],
      "source": [
        "# BBPE를 Sentencepiece 라이브러리를 활용해 학습해보기\n",
        "import sentencepiece as spm\n",
        "from pathlib import Path\n",
        "\n",
        "data_dir = './data'\n",
        "path = [str(x) for x in Path(data_dir).glob('*.txt')]"
      ]
    },
    {
      "cell_type": "code",
      "execution_count": null,
      "metadata": {
        "id": "YuqNNmTw2HO_"
      },
      "outputs": [],
      "source": [
        "corpus = ','.join(path)"
      ]
    },
    {
      "cell_type": "code",
      "execution_count": null,
      "metadata": {
        "id": "k4waU45P2JBT"
      },
      "outputs": [],
      "source": [
        "prefix = 'sp-nsmc-test'\n",
        "vocab_size = 31900 - 7\n",
        "# vocab_size 는 10_000 ~ 52_000 사이이며 모델에 따라 다르다고 합니다.\n",
        "# subwords token 31_900개\n",
        "# special token 7개 제외\n",
        "# additional_special_tokens (T5용 <extra_id_XX> 토큰) 100개\n",
        "# -> 총 32_000개"
      ]
    },
    {
      "cell_type": "code",
      "execution_count": null,
      "metadata": {
        "id": "oFzjZYQh2LkR",
        "colab": {
          "base_uri": "https://localhost:8080/",
          "height": 377
        },
        "outputId": "43c450f0-4a7d-40d4-ce4a-b1468dfc7fbd"
      },
      "outputs": [
        {
          "output_type": "error",
          "ename": "KeyboardInterrupt",
          "evalue": "",
          "traceback": [
            "\u001b[0;31m---------------------------------------------------------------------------\u001b[0m",
            "\u001b[0;31mKeyboardInterrupt\u001b[0m                         Traceback (most recent call last)",
            "\u001b[0;32m<ipython-input-7-37bb0ab2dee8>\u001b[0m in \u001b[0;36m<cell line: 1>\u001b[0;34m()\u001b[0m\n\u001b[0;32m----> 1\u001b[0;31m spm.SentencePieceTrainer.train(\n\u001b[0m\u001b[1;32m      2\u001b[0m      \u001b[0;34mf' --input={corpus} --model_prefix={prefix}'\u001b[0m \u001b[0;34m+\u001b[0m\u001b[0;34m\u001b[0m\u001b[0;34m\u001b[0m\u001b[0m\n\u001b[1;32m      3\u001b[0m      \u001b[0;34mf' --vocab_size={vocab_size + 7}'\u001b[0m \u001b[0;34m+\u001b[0m \u001b[0;31m#  최종 데이터셋 갯수\u001b[0m\u001b[0;34m\u001b[0m\u001b[0;34m\u001b[0m\u001b[0m\n\u001b[1;32m      4\u001b[0m       \u001b[0;34m' --model_type=bpe'\u001b[0m \u001b[0;34m+\u001b[0m \u001b[0;31m# 어떤 토크나이저를 사요할 것인지 설정 : unigram, bpe, char, word\u001b[0m\u001b[0;34m\u001b[0m\u001b[0;34m\u001b[0m\u001b[0m\n\u001b[1;32m      5\u001b[0m       \u001b[0;34m' --max_sentence_length=999_999'\u001b[0m \u001b[0;34m+\u001b[0m\u001b[0;34m\u001b[0m\u001b[0;34m\u001b[0m\u001b[0m\n",
            "\u001b[0;32m/usr/local/lib/python3.10/dist-packages/sentencepiece/__init__.py\u001b[0m in \u001b[0;36mTrain\u001b[0;34m(arg, logstream, **kwargs)\u001b[0m\n\u001b[1;32m    987\u001b[0m     \u001b[0;32mdef\u001b[0m \u001b[0mTrain\u001b[0m\u001b[0;34m(\u001b[0m\u001b[0marg\u001b[0m\u001b[0;34m=\u001b[0m\u001b[0;32mNone\u001b[0m\u001b[0;34m,\u001b[0m \u001b[0mlogstream\u001b[0m\u001b[0;34m=\u001b[0m\u001b[0;32mNone\u001b[0m\u001b[0;34m,\u001b[0m \u001b[0;34m**\u001b[0m\u001b[0mkwargs\u001b[0m\u001b[0;34m)\u001b[0m\u001b[0;34m:\u001b[0m\u001b[0;34m\u001b[0m\u001b[0;34m\u001b[0m\u001b[0m\n\u001b[1;32m    988\u001b[0m       \u001b[0;32mwith\u001b[0m \u001b[0m_LogStream\u001b[0m\u001b[0;34m(\u001b[0m\u001b[0mostream\u001b[0m\u001b[0;34m=\u001b[0m\u001b[0mlogstream\u001b[0m\u001b[0;34m)\u001b[0m\u001b[0;34m:\u001b[0m\u001b[0;34m\u001b[0m\u001b[0;34m\u001b[0m\u001b[0m\n\u001b[0;32m--> 989\u001b[0;31m         \u001b[0mSentencePieceTrainer\u001b[0m\u001b[0;34m.\u001b[0m\u001b[0m_Train\u001b[0m\u001b[0;34m(\u001b[0m\u001b[0marg\u001b[0m\u001b[0;34m=\u001b[0m\u001b[0marg\u001b[0m\u001b[0;34m,\u001b[0m \u001b[0;34m**\u001b[0m\u001b[0mkwargs\u001b[0m\u001b[0;34m)\u001b[0m\u001b[0;34m\u001b[0m\u001b[0;34m\u001b[0m\u001b[0m\n\u001b[0m\u001b[1;32m    990\u001b[0m \u001b[0;34m\u001b[0m\u001b[0m\n\u001b[1;32m    991\u001b[0m \u001b[0;34m\u001b[0m\u001b[0m\n",
            "\u001b[0;32m/usr/local/lib/python3.10/dist-packages/sentencepiece/__init__.py\u001b[0m in \u001b[0;36m_Train\u001b[0;34m(arg, **kwargs)\u001b[0m\n\u001b[1;32m    943\u001b[0m       \u001b[0;34m\"\"\"Train Sentencepiece model. Accept both kwargs and legacy string arg.\"\"\"\u001b[0m\u001b[0;34m\u001b[0m\u001b[0;34m\u001b[0m\u001b[0m\n\u001b[1;32m    944\u001b[0m       \u001b[0;32mif\u001b[0m \u001b[0marg\u001b[0m \u001b[0;32mis\u001b[0m \u001b[0;32mnot\u001b[0m \u001b[0;32mNone\u001b[0m \u001b[0;32mand\u001b[0m \u001b[0mtype\u001b[0m\u001b[0;34m(\u001b[0m\u001b[0marg\u001b[0m\u001b[0;34m)\u001b[0m \u001b[0;32mis\u001b[0m \u001b[0mstr\u001b[0m\u001b[0;34m:\u001b[0m\u001b[0;34m\u001b[0m\u001b[0;34m\u001b[0m\u001b[0m\n\u001b[0;32m--> 945\u001b[0;31m         \u001b[0;32mreturn\u001b[0m \u001b[0mSentencePieceTrainer\u001b[0m\u001b[0;34m.\u001b[0m\u001b[0m_TrainFromString\u001b[0m\u001b[0;34m(\u001b[0m\u001b[0marg\u001b[0m\u001b[0;34m)\u001b[0m\u001b[0;34m\u001b[0m\u001b[0;34m\u001b[0m\u001b[0m\n\u001b[0m\u001b[1;32m    946\u001b[0m \u001b[0;34m\u001b[0m\u001b[0m\n\u001b[1;32m    947\u001b[0m       \u001b[0;32mdef\u001b[0m \u001b[0m_encode\u001b[0m\u001b[0;34m(\u001b[0m\u001b[0mvalue\u001b[0m\u001b[0;34m)\u001b[0m\u001b[0;34m:\u001b[0m\u001b[0;34m\u001b[0m\u001b[0;34m\u001b[0m\u001b[0m\n",
            "\u001b[0;32m/usr/local/lib/python3.10/dist-packages/sentencepiece/__init__.py\u001b[0m in \u001b[0;36m_TrainFromString\u001b[0;34m(arg)\u001b[0m\n\u001b[1;32m    921\u001b[0m     \u001b[0;34m@\u001b[0m\u001b[0mstaticmethod\u001b[0m\u001b[0;34m\u001b[0m\u001b[0;34m\u001b[0m\u001b[0m\n\u001b[1;32m    922\u001b[0m     \u001b[0;32mdef\u001b[0m \u001b[0m_TrainFromString\u001b[0m\u001b[0;34m(\u001b[0m\u001b[0marg\u001b[0m\u001b[0;34m)\u001b[0m\u001b[0;34m:\u001b[0m\u001b[0;34m\u001b[0m\u001b[0;34m\u001b[0m\u001b[0m\n\u001b[0;32m--> 923\u001b[0;31m         \u001b[0;32mreturn\u001b[0m \u001b[0m_sentencepiece\u001b[0m\u001b[0;34m.\u001b[0m\u001b[0mSentencePieceTrainer__TrainFromString\u001b[0m\u001b[0;34m(\u001b[0m\u001b[0marg\u001b[0m\u001b[0;34m)\u001b[0m\u001b[0;34m\u001b[0m\u001b[0;34m\u001b[0m\u001b[0m\n\u001b[0m\u001b[1;32m    924\u001b[0m \u001b[0;34m\u001b[0m\u001b[0m\n\u001b[1;32m    925\u001b[0m     \u001b[0;34m@\u001b[0m\u001b[0mstaticmethod\u001b[0m\u001b[0;34m\u001b[0m\u001b[0;34m\u001b[0m\u001b[0m\n",
            "\u001b[0;31mKeyboardInterrupt\u001b[0m: "
          ]
        }
      ],
      "source": [
        "spm.SentencePieceTrainer.train(\n",
        "     f' --input={corpus} --model_prefix={prefix}' +\n",
        "     f' --vocab_size={vocab_size + 7}' + #  최종 데이터셋 갯수\n",
        "      ' --model_type=bpe' + # 어떤 토크나이저를 사요할 것인지 설정 : unigram, bpe, char, word\n",
        "      ' --max_sentence_length=999_999' +\n",
        "      ' --pad_id=0 --pad_piece=<pad>' +\n",
        "      ' --unk_id=1 --unk_piece=<unk>' +\n",
        "      ' --bos_id=2 --bos_piece=<s>' +\n",
        "      ' --eos_id=3 --eos_piece=</s>' +\n",
        "      ' --user_defined_symbols=<sep>,<cls>,<mask>' +\n",
        "      ' --byte_fallback=True'\n",
        ")\n"
      ]
    },
    {
      "cell_type": "code",
      "execution_count": null,
      "metadata": {
        "id": "Dez4RL-n1Jg6"
      },
      "outputs": [],
      "source": [
        "# 학습 완료 시 .model 과 .vocab 파일을 얻을 수 있음"
      ]
    },
    {
      "cell_type": "code",
      "execution_count": null,
      "metadata": {
        "id": "wnXZPIEv2MFO"
      },
      "outputs": [],
      "source": [
        "# 사용방법1 :\n",
        "model_name = 'sp-nsmc-test'\n",
        "sp = spm.SentencePieceProcessor(model_file=f'{model_name}.model')\n",
        "text ='같은 배우여도 독립영화냐 상업영화냐에 따라 생김새가 조금씩 다르게 보여'\n",
        "print(sp.encode_as_pieces(text))\n",
        "print(sp.encode_as_ids(text))"
      ]
    },
    {
      "cell_type": "code",
      "execution_count": null,
      "metadata": {
        "id": "DGEgXO_H6Vw-"
      },
      "outputs": [],
      "source": [
        "# 사용방법2 : T5Tokenizer 로 매핑한 허깅페이스에 업로드 및 다운로드로 활용\n",
        "\n",
        "# 1. t5로 매핑\n",
        "from transformers import T5Tokenizer\n",
        "model_name = 'sp-nsmc-test'\n",
        "tokenizer = T5Tokenizer(vocab_file = f'{model_name}.model')\n",
        "tokenizer.save_pretrained(model_name)"
      ]
    },
    {
      "cell_type": "code",
      "source": [
        "from huggingface_hub import notebook_login\n",
        "notebook_login()"
      ],
      "metadata": {
        "id": "3g9fD8R57ngh"
      },
      "execution_count": null,
      "outputs": []
    },
    {
      "cell_type": "code",
      "execution_count": null,
      "metadata": {
        "id": "29suihJSbV_Q"
      },
      "outputs": [],
      "source": [
        "# 2. 허깅페이스에 업로드\n",
        "hf_spacename = 'seriouspark' # 허깅페이스 아이디 입력해주세요\n",
        "hf_model_name = f'{hf_spacename}/{model_name}'\n",
        "tokenizer.push_to_hub(hf_model_name)\n",
        "\n",
        "# 3. 토크나이저 다운로드\n",
        "from transformers import AutoTokenizer\n",
        "hf_tokenizer = AutoTokenizer.from_pretrained(hf_model_name)"
      ]
    },
    {
      "cell_type": "code",
      "execution_count": null,
      "metadata": {
        "id": "wQrhEpOg7PeL"
      },
      "outputs": [],
      "source": [
        "# 위와 같이 매핑한 다음 쉽게 결과물을 확인할 수 있어요\n",
        "text ='같은 배우여도 독립영화냐 상업영화냐에 따라 생김새가 조금씩 다르게 보여'\n",
        "display(tokenizer.tokenize(text))\n",
        "display(tokenizer(text)['input_ids'])"
      ]
    },
    {
      "cell_type": "code",
      "source": [
        "# 위와 같이 매핑한 다음 쉽게 결과물을 확인할 수 있어요\n",
        "text ='같은 배우여도 독립영화냐 상업영화냐에 따라 생김새가 조금씩 다르게 보여'\n",
        "display(hf_tokenizer.tokenize(text))\n",
        "display(hf_tokenizer(text)['input_ids'])"
      ],
      "metadata": {
        "id": "MhNpa4wa8UbM"
      },
      "execution_count": null,
      "outputs": []
    },
    {
      "cell_type": "markdown",
      "metadata": {
        "id": "R3vKAb645v7u"
      },
      "source": [
        "##2. BPE from Scratch\n",
        "- 하지만 구현은 byte 가 아니라 char 기준입니다\n",
        "\n",
        "1. 빈도 계산\n",
        "2. 모든 단어를 글자 단위로 분리\n",
        "3. 병합"
      ]
    },
    {
      "cell_type": "code",
      "execution_count": null,
      "metadata": {
        "id": "6x8VTxhXb6rT"
      },
      "outputs": [],
      "source": [
        "import re\n",
        "from collections import defaultdict"
      ]
    },
    {
      "cell_type": "markdown",
      "metadata": {
        "id": "vs_0wcRPMzrF"
      },
      "source": [
        "\n",
        "\n",
        "### 1. 빈도 계산\n",
        ": 문장 내 아래 단어 발생 빈도를 집계\n",
        "\n",
        "  문장 : 나는 **계란밥**을 먹는다. **계란밥**! 얼마나 맛있던가. 나는 **계란밥**이 세상에서 제일좋다. 물론 **간장밥** 러버도 있겠지. 예를 들어 내 동생은 **간장밥** 하나만 있으면 1주일을 버틸 수 있다. 어떻게 하면 **간장밥** 그 단일 메뉴가 아침을 해결할 수 있을까. 말이 안된다. 중학생 때 먹은 **간장밥**, 그게 내 마지막 **간장밥**이다.\n",
        "\n",
        "  나는 내동생과 서로를 이해하지 못했다. 어느날 부모님이 계란과 간장을 섞어 **간장계란밥**을 만들었다. 노란색의 밥에 검정 소스가 있는, 이상한 그 메뉴의 이름을 묻자 부모님은 웃으며 내게 말했다. '**간장계란밥**'\n",
        "\n",
        "  **볶음밥**이야? 라고 물어봤지만 부모님은 고개를 저었다. 아니 **볶음밥**이라니? 이건 기름에 볶지 않았어. **볶음밥**의 기본은 볶음인걸? 이건 간장과 계란이 합쳐진 비빔밥이야.\n",
        "\n",
        "\n",
        "    < dictionary>\n",
        "    : 훈련데이터에 있는 단어와 등장 빈도수\n",
        "    - '계란밥': 3\n",
        "    - '간장밥' : 5\n",
        "    - '간장계란밥' : 2\n",
        "    - '볶음밥' : 3\n",
        "\n",
        "      <vocabulary>\n",
        "    - 계란밥\n",
        "    - 간장밥\n",
        "    - 간장계란밥\n",
        "    - 볶음밥\n",
        "\n",
        "\n",
        "###2. 분리:  모든 단어를 글자 단위로 나눔(char)\n",
        "\n",
        "\n",
        "    < dictionary>\n",
        "    -  계 란 밥 : 3\n",
        "        - 간 장 밥 : 5\n",
        "        - 간 장 계 란 밥 : 2\n",
        "        - 볶 음 밥 : 3\n",
        "      \n",
        "      < vocab>\n",
        "    - 계, 란, 밥, 간, 장, 볶, 음\n",
        "\n",
        "\n",
        "### 3. 병합\n",
        ": 몇 번 merge 해서 하나의 유니그램으로 통합할 것인가?\n",
        "num_merges = 10 -> 총 10회 반복한다\n",
        "\n",
        "\n",
        "  1회 : 빈도수가 5 + 2= 7 인 (간, 장) 의 쌍을 간장 으로 통합\n",
        "\n",
        "    - 계 란 밥 : 3\n",
        "    - 간장 밥: 5\n",
        "    - 간장 계 란 밥 : 2\n",
        "    - 볶 음 밥 : 3\n",
        "\n",
        "  2회 : 빈도수가 2 + 3 = 5로 가장 높은 (계, 란) 을 계란 으로 통합, (간장, 밥) 을 간장밥 으로 통합\n",
        "\n",
        "    - 계란 밥: 3\n",
        "    - 간장밥: 5\n",
        "    - 간장 계란 밥 : 2\n",
        "    - 볶 음 밥 : 3\n",
        "\n",
        "  3회 : 빈도수가 3 + 2 = 5로 가장 높은 (계란, 밥) 을 계란밥으로 통합\n",
        "\n",
        "    - 계란밥 : 3\n",
        "    - 간장밥 : 5\n",
        "    - 간장 계란밥 : 2\n",
        "    - 볶 음 밥 : 3\n",
        "\n",
        "  ... 반복\n",
        "\n",
        "\n",
        "\n",
        "\n",
        ": 3번 반복하였을 때 결과\n",
        "    \n",
        "    < dictionary>\n",
        "    - 계란밥 : 3\n",
        "    - 간장밥 : 5\n",
        "    - 간장 계란밥 : 2\n",
        "    - 볶 음 밥 : 3\n",
        "\n",
        "    < vocab>\n",
        "    - 계, 란, 밥, 간, 장, 볶, 음, 계란밥, 간장밥, 간장\n",
        "\n",
        "\n",
        "만약, 계란간장볶음밥이 등장한다면?\n",
        "  - 계란 간장 볶 음 밥 으로 분리 되며, 이 모든 것은 단어 집합에 있는 단어이기 때문에 OOV가 아니게 됩니다!\n",
        "\n",
        "\n"
      ]
    },
    {
      "cell_type": "code",
      "source": [
        "import re, collections\n",
        "\n",
        "# Character pair encoding\n",
        "def get_word_freq(corpus):\n",
        "  word_freq = collections.defaultdict(int)\n",
        "  for sentence in corpus:\n",
        "    for word in sentence.split():\n",
        "      word_space = ' '.join([w for w in word if len(word)>1])\n",
        "      word_freq[word_space] += 1\n",
        "  return word_freq\n",
        "\n",
        "def get_stats(vocab):\n",
        "  pairs = collections.defaultdict(int)\n",
        "  for word, freq in vocab.items():\n",
        "    symbols = word.split()\n",
        "    for i in range(len(symbols)-1):\n",
        "      pairs[symbols[i], symbols[i+1]] += freq\n",
        "  return pairs\n",
        "\n",
        "def merge_vocab(pair, v_in):\n",
        "  v_out = {}\n",
        "  bigram = re.escape(' '.join(pair))\n",
        "  p = re.compile(f'(?<!\\S)' + bigram + r'(?!\\S)')\n",
        "  for word in v_in:\n",
        "    w_out = p.sub(''.join(pair), word)\n",
        "    v_out[w_out] = v_in[word]\n",
        "  return v_out"
      ],
      "metadata": {
        "id": "8PL_ze8g8oSZ"
      },
      "execution_count": null,
      "outputs": []
    },
    {
      "cell_type": "code",
      "source": [
        "# 위의 예시에 따른 결과값을 확인하기 위해 띄어쓰기를 부자연스럽게 적용하였습니다.\n",
        "corpus = [\n",
        "    '나는 계란밥 을 먹는다',\n",
        "    '계란밥 ! 얼마나 맛있던가.',\n",
        "    '나는 계란밥 이 세상에서 제일좋다.',\n",
        "    '물론 간장밥 러버도 있겠지.',\n",
        "    '예를 들어 내 동생은 간장밥 하나만 있으면 1주일을 버틸 수 있다.',\n",
        "    '어떻게 하면 간장밥 그 단일 메뉴가 아침을 해결할 수 있을까.',\n",
        "    '말이 안된다. 중학생 때 먹은 간장밥 , 그게 내 마지막 간장밥 이다.',\n",
        "    '나는 내동생과 서로를 이해하지 못했다.',\n",
        "    '어느날 부모님이 계란과 간장을 섞어 간장계란밥 을 만들었다.',\n",
        "    '노란색의 밥에 검정 소스가 있는, 이상한 그 메뉴의 이름을 묻자 부모님은 웃으며 내게 말했다.',\n",
        "    '간장계란밥',\n",
        "    '볶음밥 이야? 라고 물어봤지만 부모님은 고개를 저었다.',\n",
        "    '아니 볶음밥 이라니? 이건 기름에 볶지 않았어.',\n",
        "    '볶음밥 의 기본은 볶음인걸? 이건 간장과 계란이 합쳐진 비빔밥이야.'\n",
        "      ]\n",
        "\n",
        "\n"
      ],
      "metadata": {
        "id": "EL_GbY0JERA5"
      },
      "execution_count": null,
      "outputs": []
    },
    {
      "cell_type": "code",
      "source": [
        "bpe_vocab_history = {}\n",
        "vocab = get_word_freq(corpus)\n",
        "num_merges = 10\n",
        "for i in range(num_merges):\n",
        "  pairs = get_stats(vocab)\n",
        "  best = max(pairs, key=pairs.get)\n",
        "  vocab = merge_vocab(best, vocab)\n",
        "  bpe_vocab_history[best] = i"
      ],
      "metadata": {
        "id": "7jOkk9T587wy"
      },
      "execution_count": null,
      "outputs": []
    },
    {
      "cell_type": "code",
      "source": [
        "# merge history\n",
        "bpe_vocab_history"
      ],
      "metadata": {
        "id": "Md5dHpBt87l1"
      },
      "execution_count": null,
      "outputs": []
    },
    {
      "cell_type": "code",
      "execution_count": null,
      "metadata": {
        "id": "EviVYJ_0F_7L"
      },
      "outputs": [],
      "source": [
        "class BPE_tokenizer:\n",
        "  def __init__(self, num_merges):\n",
        "    self.num_merges = num_merges\n",
        "    self.vocab = None\n",
        "    self.byte_pairs = None\n",
        "    self.token_vocab = None\n",
        "    self.bpe_vocab_history = {}\n",
        "\n",
        "  # BPE알고리즘 학습\n",
        "  def train(self, corpus):\n",
        "    self.vocab = get_word_freq(corpus)\n",
        "    for i in range(self.num_merges):\n",
        "      self.byte_pairs = get_stats(self.vocab)\n",
        "      best = max(self.byte_pairs, key=self.byte_pairs.get)\n",
        "      self.vocab = merge_vocab(best, self.vocab)\n",
        "      self.bpe_vocab_history[best] = i\n",
        "\n",
        "    self.token_vocab = set() # 완료 시 만든 vocab 을 추가해줌\n",
        "    for word in self.vocab.keys():\n",
        "      self.token_vocab.update(word.split())\n",
        "\n",
        "  def tokenize(self, text):\n",
        "    tokens = text.split()\n",
        "    tokenized_text = []\n",
        "    for token in tokens:\n",
        "      if token in self.token_vocab:\n",
        "        tokenized_text.append(token)\n",
        "      else:\n",
        "        tokenized_text.extend(self.byte_tokenize(token))\n",
        "    return tokenized_text\n",
        "\n",
        "  # 텍스트 토큰화\n",
        "  def byte_tokenize(self, token):\n",
        "    tokens = []\n",
        "    while len(token) > 0:\n",
        "      found = False\n",
        "      for i in range(len(token), 0, -1):\n",
        "        subword = token[:i]\n",
        "        #print(subword)\n",
        "        if subword in self.token_vocab:\n",
        "          tokens.append(subword)\n",
        "          token = token[i:]\n",
        "          found = True\n",
        "          break\n",
        "      if not found :\n",
        "        tokens.append(token[0])\n",
        "        token = token[1:]\n",
        "    return tokens"
      ]
    },
    {
      "cell_type": "code",
      "execution_count": null,
      "metadata": {
        "id": "eDKV6X4H5Plt"
      },
      "outputs": [],
      "source": [
        "# num_merges 는 목표 vocab_size 와 token 품질에 따라 adaptive 하게 적용할 수 있습니다.\n",
        "# SentencePiece 의 경우 vocab_size = 8000\n",
        "bpe_tokenizer = BPE_tokenizer(num_merges = 50)\n",
        "bpe_tokenizer.train(corpus)\n",
        "print('Token Vocabulary:', bpe_tokenizer.token_vocab)"
      ]
    },
    {
      "cell_type": "code",
      "execution_count": null,
      "metadata": {
        "id": "cyYEiI9u5PiR"
      },
      "outputs": [],
      "source": [
        "text ='동생은 볶음밥 2개랑 탕수육을 먹는다'\n",
        "print('origin text', text)\n",
        "print('tokenized text', bpe_tokenizer.tokenize(text))"
      ]
    },
    {
      "cell_type": "code",
      "source": [
        "# 위의 네이버 영화 리뷰 코퍼스를 활용해 토크나이저 생성\n",
        "# num_merges 50진행 시, 음절 수준의 토큰이 많이 등장하여, 병합횟수를 늘려 한번 더 수행해보았어요. 더 많이 병합을 해야 할 것 같아요\n",
        "bpe_tokenizer_nsmc = BPE_tokenizer(num_merges = 2000)\n",
        "bpe_tokenizer_nsmc.train(korean_train)\n",
        "print('vocab counts:',len(bpe_tokenizer_nsmc.token_vocab))\n",
        "print('vocab:', bpe_tokenizer_nsmc.token_vocab)"
      ],
      "metadata": {
        "id": "_C5105ZnCUYO"
      },
      "execution_count": null,
      "outputs": []
    },
    {
      "cell_type": "code",
      "source": [
        "# sentencepice 결과물:\n",
        "# ['▁같은', '▁배우', '여도', '▁독립영화', '냐', '▁상업', '영화냐', '에', '▁따라', '▁생김', '새가', '▁조금씩', '▁다르게', '▁보여']\n",
        "\n",
        "text ='같은 배우여도 독립영화냐 상업영화냐에 따라 생김새가 조금씩 다르게 보여'\n",
        "print('origin text', text)\n",
        "print('tokenized text', bpe_tokenizer_nsmc.tokenize(text))"
      ],
      "metadata": {
        "id": "5wf5YJ2FCgF4"
      },
      "execution_count": null,
      "outputs": []
    },
    {
      "cell_type": "code",
      "source": [
        "import re\n",
        "import collections\n",
        "\n",
        "def get_byte_freq(corpus):\n",
        "    byte_freq = collections.defaultdict(int)\n",
        "    for sentence in corpus:\n",
        "        for byte in sentence.encode('utf-8'):  # 문자열을 바이트로 인코딩하여 처리\n",
        "            byte_freq[byte] += 1\n",
        "    return byte_freq\n",
        "\n",
        "def get_stats(byte_vocab):\n",
        "    pairs = collections.defaultdict(int)\n",
        "    for byte, freq in byte_vocab.items():\n",
        "        symbols = [int(byte)]\n",
        "        for i in range(len(symbols)-1):\n",
        "            pairs[(symbols[i], symbols[i+1])] += freq\n",
        "    return pairs\n",
        "\n",
        "def merge_vocab(pair, v_in):\n",
        "    v_out = {}\n",
        "    bigram = pair\n",
        "    p = re.compile(re.escape(' '.join([chr(b) for b in bigram])))\n",
        "    for byte in v_in:\n",
        "        w_out = p.sub(''.join([chr(b) for b in bigram]), byte)\n",
        "        v_out[w_out] = v_in[byte]\n",
        "    return v_out\n",
        "\n",
        "def byte_pair_encoding(corpus, num_merges):\n",
        "    byte_freq = get_byte_freq(corpus)\n",
        "    for i in range(num_merges):\n",
        "        byte_stats = get_stats(byte_freq)\n",
        "        if not byte_stats:\n",
        "            break\n",
        "        best_pair = max(byte_stats, key=byte_stats.get)\n",
        "        byte_freq = merge_vocab(best_pair, byte_freq)\n",
        "    return byte_freq\n",
        "\n",
        "# Example usage\n",
        "\n",
        "num_merges = 10\n",
        "corpus\n",
        "byte_freq = byte_pair_encoding(corpus, num_merges)\n",
        "print(byte_freq)\n"
      ],
      "metadata": {
        "id": "xv7RmOSHO4tQ"
      },
      "execution_count": null,
      "outputs": []
    },
    {
      "cell_type": "markdown",
      "metadata": {
        "id": "JeTn5niv7H7e"
      },
      "source": [
        "#3.  형태소 기반 BPE from scatch\n",
        "- 논문 내 <MorWP-MD> 개념을 차용해 간단하게 구현해보고자 합니다.\n",
        "- 참고자료 : https://github.com/taeheejeon22/MorphSubDecomp-Korean/blob/main/Tutorial.md\n",
        "\n",
        "\n",
        "## 프로세스\n",
        "\n",
        "1. 데이터 수집 - nsmc\n",
        "2. 전처리\n",
        "3. Wordpiece Model Training - vocab_size 64k 적용\n",
        "4. BERT 학습\n",
        "\n",
        "\n"
      ]
    },
    {
      "cell_type": "code",
      "source": [
        "# # 데이터 수집 : SentencePiece 를 위한 코드와 동일합니다.\n",
        "# from datasets import load_dataset\n",
        "# import os\n",
        "\n",
        "# data_dir = './data'\n",
        "# dataset = load_dataset('nsmc')\n",
        "# os.makedirs(data_dir, exist_ok = True)\n",
        "# for split_key in dataset.keys():\n",
        "#   doc_path = f'{data_dir}/{split_key}.txt'\n",
        "#   with open(doc_path, 'w') as f:\n",
        "#     for doc in dataset[split_key]['document']:\n",
        "#       f.write(doc + '\\n')"
      ],
      "metadata": {
        "id": "g1GGlQ8xGr7p"
      },
      "execution_count": null,
      "outputs": []
    },
    {
      "cell_type": "code",
      "source": [],
      "metadata": {
        "id": "WKmZv7wGHizD"
      },
      "execution_count": null,
      "outputs": []
    },
    {
      "cell_type": "code",
      "source": [
        "# 전처리\n",
        "def preprocess(sent_lst):\n",
        "    # https://github.com/ratsgo/embedding/blob/master/preprocess/dump.py 참조\n",
        "    p_email =  re.compile(\"(^[a-zA-Z0-9_.+-]+@[a-zA-Z0-9-]+\\.[a-zA-Z0-9-.]+$)\", re.UNICODE)\n",
        "    p_url = re.compile(\"(ftp|http|https)?://(?:[a-zA-Z]|[0-9]|[$-_@.&+]|[!*\\(\\),]|(?:%[0-9a-fA-F][0-9a-fA-F]))+\", re.UNICODE)\n",
        "    p_wiki_char = re.compile(\"(\\\\*$|:$|^파일:.+|^;)\", re.UNICODE)\n",
        "    p_wiki_space =  re.compile(\"(\\\\s|゙|゚|　)+\", re.UNICODE)\n",
        "    p_tag = re.compile(\"^<.+>?\", re.UNICODE)\n",
        "\n",
        "    sent_lst = [re.sub(p_email, \" \", sentence) for sentence in sent_lst]\n",
        "    sent_lst = [re.sub(p_url, \" \", sentence) for sentence in sent_lst]\n",
        "    sent_lst = [re.sub(p_wiki_char, \" \", sentence) for sentence in sent_lst]\n",
        "    sent_lst = [re.sub(p_wiki_space, \" \", sentence) for sentence in sent_lst]\n",
        "    sent_lst = [re.sub(p_tag, \" \", sentence) for sentence in sent_lst]\n",
        "\n",
        "    # our\n",
        "    p_paren_str = re.compile(\"\\(.+?\\)\") # 괄호 문자열(\"(xxx)\") 삭제용\n",
        "    sent_lst = [re.sub(p_paren_str, \"\", sent) for sent in sent_lst] # 사람(인간)은 짐승(동물)이다 > 사람은 짐승이다\n",
        "\n",
        "    # kortok\n",
        "    # p_kakao = re.compile(r\"[^가-힣\\x20-\\x7F]*\") # 타 언어 문자, 특수 기호 제거\n",
        "    p_kakao = re.compile(r\"[^ㄱ-ㅎㅏ-ㅣ가-힣\\x20-\\x7F]*\")  # 타 언어 문자, 특수 기호 제거    # 자모 낱글자 살리기\n",
        "    sent_lst = [re.sub(p_kakao, \"\", sent) for sent in sent_lst]\n",
        "\n",
        "    # our\n",
        "    p_multiple_spaces = re.compile(\"\\s+\")   # 무의미한 공백\n",
        "    sent_lst = [re.sub(p_multiple_spaces, \" \", sent) for sent in sent_lst]  # 무의미한 공백을 스페이스(\" \")로 치환\n",
        "\n",
        "    # our\n",
        "    sent_lst = [sent for sent in sent_lst if not re.search(r\"^\\s+$\", sent)]    # 빈 문장 제거\n",
        "    sent_lst = [sent.strip() for sent in sent_lst if sent != \"\"]    # 빈 문장 제거\n",
        "\n",
        "    # our\n",
        "    sent_lst = [sent for sent in sent_lst if not (sent.endswith(\".\") and len(sent.split(\" \")) <= 3) ]   # 퇴임 이후.    어린 시절.  생애 후반.  등등의 짧은 라인 없애기\n",
        "\n",
        "    return sent_lst\n"
      ],
      "metadata": {
        "id": "cuGGWC7SHlyY"
      },
      "execution_count": null,
      "outputs": []
    },
    {
      "cell_type": "code",
      "source": [
        "def preprocessing_all(data, file_path):\n",
        "  all_texts = \"\"\n",
        "  for ix in tqdm(range(len(data))):\n",
        "    split_text = data[ix]\n",
        "    preprocessed_text = preprocess(split_text)\n",
        "    concat_text = '\\n'.join(preprocessed_text)\n",
        "\n",
        "    if concat_text != \"\":\n",
        "      all_texts += (concat_text + '\\n\\n')\n",
        "\n",
        "  os.makedirs('morph_token/data', exist_ok = True)\n",
        "  with open(f'morph_token/data/{file_path}.txt', 'w') as f:\n",
        "    f.write(all_texts)"
      ],
      "metadata": {
        "id": "PqIYMh7jH3fE"
      },
      "execution_count": null,
      "outputs": []
    },
    {
      "cell_type": "code",
      "source": [
        "preprocessing_all(korean_train, 'preprocessed_train')\n",
        "#preprocessing_all(korean_test, 'preprocessed_test')"
      ],
      "metadata": {
        "id": "XF0Jpz0_JGDG"
      },
      "execution_count": null,
      "outputs": []
    },
    {
      "cell_type": "code",
      "source": [
        "python scripts/mecab_tokenization.py --token_type=morpheme --corpus_path=./corpus/preprocessed/namuwiki_20200302_preprocessed.txt --tokenizer_type=mecab_fixed --decomposition_type=decomposed_lexical --nfd --threads 32\n"
      ],
      "metadata": {
        "id": "xd_M-HoHJTFa"
      },
      "execution_count": null,
      "outputs": []
    },
    {
      "cell_type": "markdown",
      "source": [
        "python scripts/mecab_tokenization.py --token_type=morpheme --corpus_path=./corpus/preprocessed/namuwiki_20200302_preprocessed.txt --tokenizer_type=mecab_fixed --decomposition_type=decomposed_lexical --nfd --threads 32\n"
      ],
      "metadata": {
        "id": "sVUTqjZ3H3DY"
      }
    },
    {
      "cell_type": "code",
      "execution_count": null,
      "metadata": {
        "id": "92CL_-qT84qO"
      },
      "outputs": [],
      "source": []
    },
    {
      "cell_type": "code",
      "source": [
        "!pip install konlpy"
      ],
      "metadata": {
        "id": "fojPWfpKKqml",
        "colab": {
          "base_uri": "https://localhost:8080/"
        },
        "outputId": "5440151b-e36e-4366-e1e8-97ff53ef8e12"
      },
      "execution_count": null,
      "outputs": [
        {
          "output_type": "stream",
          "name": "stdout",
          "text": [
            "Collecting eunjeon\n",
            "  Downloading eunjeon-0.4.0.tar.gz (34.7 MB)\n",
            "\u001b[2K     \u001b[90m━━━━━━━━━━━━━━━━━━━━━━━━━━━━━━━━━━━━━━━━\u001b[0m \u001b[32m34.7/34.7 MB\u001b[0m \u001b[31m27.0 MB/s\u001b[0m eta \u001b[36m0:00:00\u001b[0m\n",
            "\u001b[?25h  \u001b[1;31merror\u001b[0m: \u001b[1msubprocess-exited-with-error\u001b[0m\n",
            "  \n",
            "  \u001b[31m×\u001b[0m \u001b[32mpython setup.py egg_info\u001b[0m did not run successfully.\n",
            "  \u001b[31m│\u001b[0m exit code: \u001b[1;36m1\u001b[0m\n",
            "  \u001b[31m╰─>\u001b[0m See above for output.\n",
            "  \n",
            "  \u001b[1;35mnote\u001b[0m: This error originates from a subprocess, and is likely not a problem with pip.\n",
            "  Preparing metadata (setup.py) ... \u001b[?25l\u001b[?25herror\n",
            "\u001b[1;31merror\u001b[0m: \u001b[1mmetadata-generation-failed\u001b[0m\n",
            "\n",
            "\u001b[31m×\u001b[0m Encountered error while generating package metadata.\n",
            "\u001b[31m╰─>\u001b[0m See above for output.\n",
            "\n",
            "\u001b[1;35mnote\u001b[0m: This is an issue with the package mentioned above, not pip.\n",
            "\u001b[1;36mhint\u001b[0m: See above for details.\n"
          ]
        }
      ]
    },
    {
      "cell_type": "code",
      "execution_count": null,
      "metadata": {
        "id": "zu9lpfOQ8S9i"
      },
      "outputs": [],
      "source": [
        "from konlpy.tag import Kkma\n",
        "from collections import defaultdict"
      ]
    },
    {
      "cell_type": "code",
      "execution_count": null,
      "metadata": {
        "id": "sRlQLmjG9qfy"
      },
      "outputs": [],
      "source": [
        "# def get_byte_pairs(self, word_freq):\n",
        "#     byte_pairs = defaultdict(int)\n",
        "#     for word, freq in word_freq.items():\n",
        "#         symbols = word.split()\n",
        "#         for i in range(len(symbols) - 1):\n",
        "#             byte_pairs[symbols[i], symbols[i + 1]] += freq\n",
        "#     return byte_pairs\n",
        "\n",
        "# def merge_byte_pairs(self, byte_pairs, word_freq):\n",
        "#     new_word_freq = defaultdict(int)\n",
        "#     for word in word_freq:\n",
        "#         new_word = word.replace(' '.join(pair), ''.join(pair))\n",
        "#         new_word_freq[new_word] = word_freq[word]\n",
        "#     return new_word_freq"
      ]
    },
    {
      "cell_type": "code",
      "source": [],
      "metadata": {
        "id": "86yAenrzfp4F"
      },
      "execution_count": null,
      "outputs": []
    },
    {
      "cell_type": "code",
      "source": [
        "# 초성 리스트. 00 ~ 18\n",
        "CHOSUNG_LIST = ['ㄱ', 'ㄲ', 'ㄴ', 'ㄷ', 'ㄸ', 'ㄹ', 'ㅁ', 'ㅂ', 'ㅃ', 'ㅅ', 'ㅆ', 'ㅇ', 'ㅈ', 'ㅉ', 'ㅊ', 'ㅋ', 'ㅌ', 'ㅍ', 'ㅎ']\n",
        "# 중성 리스트. 00 ~ 20\n",
        "JUNGSUNG_LIST = ['ㅏ', 'ㅐ', 'ㅑ', 'ㅒ', 'ㅓ', 'ㅔ', 'ㅕ', 'ㅖ', 'ㅗ', 'ㅘ', 'ㅙ', 'ㅚ', 'ㅛ', 'ㅜ', 'ㅝ', 'ㅞ', 'ㅟ', 'ㅠ', 'ㅡ', 'ㅢ', 'ㅣ']\n",
        "# 종성 리스트. 00 ~ 27 + 1(1개 없음)\n",
        "JONGSUNG_LIST = [' ', 'ㄱ', 'ㄲ', 'ㄳ', 'ㄴ', 'ㄵ', 'ㄶ', 'ㄷ', 'ㄹ', 'ㄺ', 'ㄻ', 'ㄼ', 'ㄽ', 'ㄾ', 'ㄿ', 'ㅀ', 'ㅁ', 'ㅂ', 'ㅄ', 'ㅅ', 'ㅆ', 'ㅇ', 'ㅈ', 'ㅊ', 'ㅋ', 'ㅌ', 'ㅍ', 'ㅎ']\n"
      ],
      "metadata": {
        "id": "yYCnmy6RghvC"
      },
      "execution_count": null,
      "outputs": []
    },
    {
      "cell_type": "code",
      "source": [
        "def korean_jamo_spliter(text):\n",
        "  def is_hangeul(char):\n",
        "    korean_p = re.compile('[ㄱ-ㅎ가-힣]+')\n",
        "    return len(re.findall(korean_p, char)) > 0\n",
        "\n",
        "  r_list = []\n",
        "  for char in text:\n",
        "    if is_hangeul(char) :\n",
        "      cho = (ord(char) - ord('가')) // 588\n",
        "      jung = ((ord(char) - ord('가')) - (588 * cho)) // 28\n",
        "      jong = (ord(char) - ord('가')) - (588 * cho) - 28 * jung\n",
        "\n",
        "      r_list.append([CHOSUNG_LIST[cho], JUNGSUNG_LIST[jung], JONGSUNG_LIST[jong]])\n",
        "    else:\n",
        "      r_list.append([char])\n",
        "  return r_list"
      ],
      "metadata": {
        "id": "effSMSdpiUh9"
      },
      "execution_count": null,
      "outputs": []
    },
    {
      "cell_type": "code",
      "source": [
        "text = '나 라면 해물라면을 먹겠어'\n",
        "text_list = []\n",
        "kkma= Kkma()\n",
        "parsed_text = kkma.pos(text)\n",
        "for i in parsed_text:\n",
        "  if i[1] in (['VV','NNG','EP']):\n",
        "\n",
        "    result_ = korean_jamo_spliter(i[0])\n",
        "    text_list.append(result_)\n",
        "  else:\n",
        "    text_list.append(i[1])"
      ],
      "metadata": {
        "id": "XEoLmpQrYRZI"
      },
      "execution_count": null,
      "outputs": []
    },
    {
      "cell_type": "code",
      "source": [
        "text_list"
      ],
      "metadata": {
        "colab": {
          "base_uri": "https://localhost:8080/"
        },
        "id": "IketI2MHb_Qm",
        "outputId": "2ef83ff9-09aa-456d-8046-a009163ed80c"
      },
      "execution_count": null,
      "outputs": [
        {
          "output_type": "execute_result",
          "data": {
            "text/plain": [
              "[[['ㄴ', 'ㅏ', ' ']],\n",
              " 'ECS',\n",
              " 'VCP',\n",
              " 'ECD',\n",
              " [['ㅎ', 'ㅐ', ' '], ['ㅁ', 'ㅜ', 'ㄹ']],\n",
              " [['ㄹ', 'ㅏ', ' '], ['ㅁ', 'ㅕ', 'ㄴ']],\n",
              " 'JKO',\n",
              " [['ㅁ', 'ㅓ', 'ㄱ']],\n",
              " 'EPT',\n",
              " 'EFN']"
            ]
          },
          "metadata": {},
          "execution_count": 58
        }
      ]
    },
    {
      "cell_type": "code",
      "source": [
        "sum(text_list, [])"
      ],
      "metadata": {
        "colab": {
          "base_uri": "https://localhost:8080/",
          "height": 149
        },
        "id": "9ilahYfhbziO",
        "outputId": "7cd14a47-128b-4da5-ee74-bd05afa07780"
      },
      "execution_count": null,
      "outputs": [
        {
          "output_type": "error",
          "ename": "TypeError",
          "evalue": "can only concatenate list (not \"str\") to list",
          "traceback": [
            "\u001b[0;31m---------------------------------------------------------------------------\u001b[0m",
            "\u001b[0;31mTypeError\u001b[0m                                 Traceback (most recent call last)",
            "\u001b[0;32m<ipython-input-59-506b8eeb1ef6>\u001b[0m in \u001b[0;36m<cell line: 1>\u001b[0;34m()\u001b[0m\n\u001b[0;32m----> 1\u001b[0;31m \u001b[0msum\u001b[0m\u001b[0;34m(\u001b[0m\u001b[0mtext_list\u001b[0m\u001b[0;34m,\u001b[0m \u001b[0;34m[\u001b[0m\u001b[0;34m]\u001b[0m\u001b[0;34m)\u001b[0m\u001b[0;34m\u001b[0m\u001b[0;34m\u001b[0m\u001b[0m\n\u001b[0m",
            "\u001b[0;31mTypeError\u001b[0m: can only concatenate list (not \"str\") to list"
          ]
        }
      ]
    },
    {
      "cell_type": "code",
      "execution_count": null,
      "metadata": {
        "id": "YI-emLkK5PbO"
      },
      "outputs": [],
      "source": [
        "class KoreanBPETokenizer:\n",
        "    def __init__(self, num_merges=10):\n",
        "        self.num_merges = num_merges\n",
        "        self.tokenizer = Okt() # 토크나이저를 포함해서 불러오는 부분\n",
        "        self.word_freq = None\n",
        "        self.byte_pairs = None\n",
        "        self.token_vocab = None\n",
        "\n",
        "    def train(self, corpus):\n",
        "        self.word_freq = defaultdict(int)\n",
        "        for sentence in corpus: # 문장을 형태소 변경하여 단어로 만들고 빈도 집계\n",
        "            tokens = self.tokenizer.morphs(sentence)\n",
        "            for token in tokens:\n",
        "                self.word_freq[token] += 1\n",
        "\n",
        "        for i in range(self.num_merges):\n",
        "            self.byte_pairs = self.get_byte_pairs(self.word_freq)\n",
        "            self.word_freq = self.merge_byte_pairs(self.byte_pairs, self.word_freq)\n",
        "\n",
        "        self.token_vocab = set(self.word_freq.keys())\n",
        "\n",
        "    def tokenize(self, text):\n",
        "        tokens = self.tokenizer.morphs(text)\n",
        "        tokenized_text = []\n",
        "        for token in tokens:\n",
        "            if token in self.token_vocab:\n",
        "                tokenized_text.append(token)\n",
        "            else:\n",
        "                tokenized_text.extend(self.byte_tokenize(token))\n",
        "        return tokenized_text\n",
        "\n",
        "    def byte_tokenize(self, token):\n",
        "        tokens = []\n",
        "        while len(token) > 0:\n",
        "            found = False\n",
        "            for i in range(len(token), 0, -1):\n",
        "                subword = token[:i]\n",
        "                if subword in self.token_vocab:\n",
        "                    tokens.append(subword)\n",
        "                    token = token[i:]\n",
        "                    found = True\n",
        "                    break\n",
        "            if not found:\n",
        "                tokens.append(token[0])\n",
        "                token = token[1:]\n",
        "        return tokens"
      ]
    },
    {
      "cell_type": "code",
      "execution_count": null,
      "metadata": {
        "id": "GZxaCcdjFYoY"
      },
      "outputs": [],
      "source": [
        "\n",
        "# 토크나이저 학습\n",
        "corpus = korean_train[:10]\n",
        "tokenizer = KoreanBPETokenizer(num_merges=10)\n",
        "tokenizer.train(corpus)\n",
        "\n"
      ]
    },
    {
      "cell_type": "code",
      "execution_count": null,
      "metadata": {
        "id": "dgzAAPh8J9dS"
      },
      "outputs": [],
      "source": [
        "# 문장 토크나이징\n",
        "sentence ='같은 배우여도 독립영화냐 상업영화냐에 따라 생김새가 조금씩 다르게 보여'\n",
        "tokens = tokenizer.tokenize(sentence)\n",
        "print(tokens)"
      ]
    }
  ],
  "metadata": {
    "colab": {
      "provenance": [],
      "collapsed_sections": [
        "7cHC2hXwyd1h"
      ],
      "include_colab_link": true
    },
    "kernelspec": {
      "display_name": "Python 3",
      "name": "python3"
    },
    "language_info": {
      "name": "python"
    },
    "widgets": {
      "application/vnd.jupyter.widget-state+json": {
        "88ce2c2a1e684440847ddf380721484c": {
          "model_module": "@jupyter-widgets/controls",
          "model_name": "HBoxModel",
          "model_module_version": "1.5.0",
          "state": {
            "_dom_classes": [],
            "_model_module": "@jupyter-widgets/controls",
            "_model_module_version": "1.5.0",
            "_model_name": "HBoxModel",
            "_view_count": null,
            "_view_module": "@jupyter-widgets/controls",
            "_view_module_version": "1.5.0",
            "_view_name": "HBoxView",
            "box_style": "",
            "children": [
              "IPY_MODEL_71cea400cd7c4a44a1659ff466e43ec1",
              "IPY_MODEL_ef78bcfd20664609b2ffd60b51d5d0ea",
              "IPY_MODEL_d819dea2197c4ccc85d9d10884d3fefc"
            ],
            "layout": "IPY_MODEL_ec4d06acb79044069bf076ff45542332"
          }
        },
        "71cea400cd7c4a44a1659ff466e43ec1": {
          "model_module": "@jupyter-widgets/controls",
          "model_name": "HTMLModel",
          "model_module_version": "1.5.0",
          "state": {
            "_dom_classes": [],
            "_model_module": "@jupyter-widgets/controls",
            "_model_module_version": "1.5.0",
            "_model_name": "HTMLModel",
            "_view_count": null,
            "_view_module": "@jupyter-widgets/controls",
            "_view_module_version": "1.5.0",
            "_view_name": "HTMLView",
            "description": "",
            "description_tooltip": null,
            "layout": "IPY_MODEL_911575569a0e4973982146c4274c8721",
            "placeholder": "​",
            "style": "IPY_MODEL_037cab96769f42c893ed25f763c2e7e7",
            "value": "Downloading data: 100%"
          }
        },
        "ef78bcfd20664609b2ffd60b51d5d0ea": {
          "model_module": "@jupyter-widgets/controls",
          "model_name": "FloatProgressModel",
          "model_module_version": "1.5.0",
          "state": {
            "_dom_classes": [],
            "_model_module": "@jupyter-widgets/controls",
            "_model_module_version": "1.5.0",
            "_model_name": "FloatProgressModel",
            "_view_count": null,
            "_view_module": "@jupyter-widgets/controls",
            "_view_module_version": "1.5.0",
            "_view_name": "ProgressView",
            "bar_style": "success",
            "description": "",
            "description_tooltip": null,
            "layout": "IPY_MODEL_1ce27dd115984cb095267984822b500b",
            "max": 11120369,
            "min": 0,
            "orientation": "horizontal",
            "style": "IPY_MODEL_7048c0f2c83e4efb87758e94baf6844b",
            "value": 11120369
          }
        },
        "d819dea2197c4ccc85d9d10884d3fefc": {
          "model_module": "@jupyter-widgets/controls",
          "model_name": "HTMLModel",
          "model_module_version": "1.5.0",
          "state": {
            "_dom_classes": [],
            "_model_module": "@jupyter-widgets/controls",
            "_model_module_version": "1.5.0",
            "_model_name": "HTMLModel",
            "_view_count": null,
            "_view_module": "@jupyter-widgets/controls",
            "_view_module_version": "1.5.0",
            "_view_name": "HTMLView",
            "description": "",
            "description_tooltip": null,
            "layout": "IPY_MODEL_ba855fbdd5544a2cadc811c6d150f66c",
            "placeholder": "​",
            "style": "IPY_MODEL_a735aca3153449f1a7177f379acbe003",
            "value": " 11.1M/11.1M [00:01&lt;00:00, 11.1MB/s]"
          }
        },
        "ec4d06acb79044069bf076ff45542332": {
          "model_module": "@jupyter-widgets/base",
          "model_name": "LayoutModel",
          "model_module_version": "1.2.0",
          "state": {
            "_model_module": "@jupyter-widgets/base",
            "_model_module_version": "1.2.0",
            "_model_name": "LayoutModel",
            "_view_count": null,
            "_view_module": "@jupyter-widgets/base",
            "_view_module_version": "1.2.0",
            "_view_name": "LayoutView",
            "align_content": null,
            "align_items": null,
            "align_self": null,
            "border": null,
            "bottom": null,
            "display": null,
            "flex": null,
            "flex_flow": null,
            "grid_area": null,
            "grid_auto_columns": null,
            "grid_auto_flow": null,
            "grid_auto_rows": null,
            "grid_column": null,
            "grid_gap": null,
            "grid_row": null,
            "grid_template_areas": null,
            "grid_template_columns": null,
            "grid_template_rows": null,
            "height": null,
            "justify_content": null,
            "justify_items": null,
            "left": null,
            "margin": null,
            "max_height": null,
            "max_width": null,
            "min_height": null,
            "min_width": null,
            "object_fit": null,
            "object_position": null,
            "order": null,
            "overflow": null,
            "overflow_x": null,
            "overflow_y": null,
            "padding": null,
            "right": null,
            "top": null,
            "visibility": null,
            "width": null
          }
        },
        "911575569a0e4973982146c4274c8721": {
          "model_module": "@jupyter-widgets/base",
          "model_name": "LayoutModel",
          "model_module_version": "1.2.0",
          "state": {
            "_model_module": "@jupyter-widgets/base",
            "_model_module_version": "1.2.0",
            "_model_name": "LayoutModel",
            "_view_count": null,
            "_view_module": "@jupyter-widgets/base",
            "_view_module_version": "1.2.0",
            "_view_name": "LayoutView",
            "align_content": null,
            "align_items": null,
            "align_self": null,
            "border": null,
            "bottom": null,
            "display": null,
            "flex": null,
            "flex_flow": null,
            "grid_area": null,
            "grid_auto_columns": null,
            "grid_auto_flow": null,
            "grid_auto_rows": null,
            "grid_column": null,
            "grid_gap": null,
            "grid_row": null,
            "grid_template_areas": null,
            "grid_template_columns": null,
            "grid_template_rows": null,
            "height": null,
            "justify_content": null,
            "justify_items": null,
            "left": null,
            "margin": null,
            "max_height": null,
            "max_width": null,
            "min_height": null,
            "min_width": null,
            "object_fit": null,
            "object_position": null,
            "order": null,
            "overflow": null,
            "overflow_x": null,
            "overflow_y": null,
            "padding": null,
            "right": null,
            "top": null,
            "visibility": null,
            "width": null
          }
        },
        "037cab96769f42c893ed25f763c2e7e7": {
          "model_module": "@jupyter-widgets/controls",
          "model_name": "DescriptionStyleModel",
          "model_module_version": "1.5.0",
          "state": {
            "_model_module": "@jupyter-widgets/controls",
            "_model_module_version": "1.5.0",
            "_model_name": "DescriptionStyleModel",
            "_view_count": null,
            "_view_module": "@jupyter-widgets/base",
            "_view_module_version": "1.2.0",
            "_view_name": "StyleView",
            "description_width": ""
          }
        },
        "1ce27dd115984cb095267984822b500b": {
          "model_module": "@jupyter-widgets/base",
          "model_name": "LayoutModel",
          "model_module_version": "1.2.0",
          "state": {
            "_model_module": "@jupyter-widgets/base",
            "_model_module_version": "1.2.0",
            "_model_name": "LayoutModel",
            "_view_count": null,
            "_view_module": "@jupyter-widgets/base",
            "_view_module_version": "1.2.0",
            "_view_name": "LayoutView",
            "align_content": null,
            "align_items": null,
            "align_self": null,
            "border": null,
            "bottom": null,
            "display": null,
            "flex": null,
            "flex_flow": null,
            "grid_area": null,
            "grid_auto_columns": null,
            "grid_auto_flow": null,
            "grid_auto_rows": null,
            "grid_column": null,
            "grid_gap": null,
            "grid_row": null,
            "grid_template_areas": null,
            "grid_template_columns": null,
            "grid_template_rows": null,
            "height": null,
            "justify_content": null,
            "justify_items": null,
            "left": null,
            "margin": null,
            "max_height": null,
            "max_width": null,
            "min_height": null,
            "min_width": null,
            "object_fit": null,
            "object_position": null,
            "order": null,
            "overflow": null,
            "overflow_x": null,
            "overflow_y": null,
            "padding": null,
            "right": null,
            "top": null,
            "visibility": null,
            "width": null
          }
        },
        "7048c0f2c83e4efb87758e94baf6844b": {
          "model_module": "@jupyter-widgets/controls",
          "model_name": "ProgressStyleModel",
          "model_module_version": "1.5.0",
          "state": {
            "_model_module": "@jupyter-widgets/controls",
            "_model_module_version": "1.5.0",
            "_model_name": "ProgressStyleModel",
            "_view_count": null,
            "_view_module": "@jupyter-widgets/base",
            "_view_module_version": "1.2.0",
            "_view_name": "StyleView",
            "bar_color": null,
            "description_width": ""
          }
        },
        "ba855fbdd5544a2cadc811c6d150f66c": {
          "model_module": "@jupyter-widgets/base",
          "model_name": "LayoutModel",
          "model_module_version": "1.2.0",
          "state": {
            "_model_module": "@jupyter-widgets/base",
            "_model_module_version": "1.2.0",
            "_model_name": "LayoutModel",
            "_view_count": null,
            "_view_module": "@jupyter-widgets/base",
            "_view_module_version": "1.2.0",
            "_view_name": "LayoutView",
            "align_content": null,
            "align_items": null,
            "align_self": null,
            "border": null,
            "bottom": null,
            "display": null,
            "flex": null,
            "flex_flow": null,
            "grid_area": null,
            "grid_auto_columns": null,
            "grid_auto_flow": null,
            "grid_auto_rows": null,
            "grid_column": null,
            "grid_gap": null,
            "grid_row": null,
            "grid_template_areas": null,
            "grid_template_columns": null,
            "grid_template_rows": null,
            "height": null,
            "justify_content": null,
            "justify_items": null,
            "left": null,
            "margin": null,
            "max_height": null,
            "max_width": null,
            "min_height": null,
            "min_width": null,
            "object_fit": null,
            "object_position": null,
            "order": null,
            "overflow": null,
            "overflow_x": null,
            "overflow_y": null,
            "padding": null,
            "right": null,
            "top": null,
            "visibility": null,
            "width": null
          }
        },
        "a735aca3153449f1a7177f379acbe003": {
          "model_module": "@jupyter-widgets/controls",
          "model_name": "DescriptionStyleModel",
          "model_module_version": "1.5.0",
          "state": {
            "_model_module": "@jupyter-widgets/controls",
            "_model_module_version": "1.5.0",
            "_model_name": "DescriptionStyleModel",
            "_view_count": null,
            "_view_module": "@jupyter-widgets/base",
            "_view_module_version": "1.2.0",
            "_view_name": "StyleView",
            "description_width": ""
          }
        },
        "6d8bcaf051164ad3b699e6cd7916a9da": {
          "model_module": "@jupyter-widgets/controls",
          "model_name": "HBoxModel",
          "model_module_version": "1.5.0",
          "state": {
            "_dom_classes": [],
            "_model_module": "@jupyter-widgets/controls",
            "_model_module_version": "1.5.0",
            "_model_name": "HBoxModel",
            "_view_count": null,
            "_view_module": "@jupyter-widgets/controls",
            "_view_module_version": "1.5.0",
            "_view_name": "HBoxView",
            "box_style": "",
            "children": [
              "IPY_MODEL_cd437aa8afcc43e6ba02e38549d1344a",
              "IPY_MODEL_0e538b20ff4d40a1989d9db44fdc3326",
              "IPY_MODEL_bec06aa043d9495e940f0dd89a8aa70b"
            ],
            "layout": "IPY_MODEL_8b25b0e03b3e401eb12a30aaf254d221"
          }
        },
        "cd437aa8afcc43e6ba02e38549d1344a": {
          "model_module": "@jupyter-widgets/controls",
          "model_name": "HTMLModel",
          "model_module_version": "1.5.0",
          "state": {
            "_dom_classes": [],
            "_model_module": "@jupyter-widgets/controls",
            "_model_module_version": "1.5.0",
            "_model_name": "HTMLModel",
            "_view_count": null,
            "_view_module": "@jupyter-widgets/controls",
            "_view_module_version": "1.5.0",
            "_view_name": "HTMLView",
            "description": "",
            "description_tooltip": null,
            "layout": "IPY_MODEL_d1666ca8be2247b4b11dc9da104e9339",
            "placeholder": "​",
            "style": "IPY_MODEL_90d6cf36b4054d5092587d288ae0c780",
            "value": "Downloading data: 100%"
          }
        },
        "0e538b20ff4d40a1989d9db44fdc3326": {
          "model_module": "@jupyter-widgets/controls",
          "model_name": "FloatProgressModel",
          "model_module_version": "1.5.0",
          "state": {
            "_dom_classes": [],
            "_model_module": "@jupyter-widgets/controls",
            "_model_module_version": "1.5.0",
            "_model_name": "FloatProgressModel",
            "_view_count": null,
            "_view_module": "@jupyter-widgets/controls",
            "_view_module_version": "1.5.0",
            "_view_name": "ProgressView",
            "bar_style": "success",
            "description": "",
            "description_tooltip": null,
            "layout": "IPY_MODEL_65557332994844e8b0f1a340635c968e",
            "max": 3713315,
            "min": 0,
            "orientation": "horizontal",
            "style": "IPY_MODEL_70cc22d2b3274d6082f9e3e60801f7f6",
            "value": 3713315
          }
        },
        "bec06aa043d9495e940f0dd89a8aa70b": {
          "model_module": "@jupyter-widgets/controls",
          "model_name": "HTMLModel",
          "model_module_version": "1.5.0",
          "state": {
            "_dom_classes": [],
            "_model_module": "@jupyter-widgets/controls",
            "_model_module_version": "1.5.0",
            "_model_name": "HTMLModel",
            "_view_count": null,
            "_view_module": "@jupyter-widgets/controls",
            "_view_module_version": "1.5.0",
            "_view_name": "HTMLView",
            "description": "",
            "description_tooltip": null,
            "layout": "IPY_MODEL_4ff88dce1baf44c4a398b31ca15cc464",
            "placeholder": "​",
            "style": "IPY_MODEL_53b1964b19af4ed385b9bb57c6cfd806",
            "value": " 3.71M/3.71M [00:00&lt;00:00, 5.67MB/s]"
          }
        },
        "8b25b0e03b3e401eb12a30aaf254d221": {
          "model_module": "@jupyter-widgets/base",
          "model_name": "LayoutModel",
          "model_module_version": "1.2.0",
          "state": {
            "_model_module": "@jupyter-widgets/base",
            "_model_module_version": "1.2.0",
            "_model_name": "LayoutModel",
            "_view_count": null,
            "_view_module": "@jupyter-widgets/base",
            "_view_module_version": "1.2.0",
            "_view_name": "LayoutView",
            "align_content": null,
            "align_items": null,
            "align_self": null,
            "border": null,
            "bottom": null,
            "display": null,
            "flex": null,
            "flex_flow": null,
            "grid_area": null,
            "grid_auto_columns": null,
            "grid_auto_flow": null,
            "grid_auto_rows": null,
            "grid_column": null,
            "grid_gap": null,
            "grid_row": null,
            "grid_template_areas": null,
            "grid_template_columns": null,
            "grid_template_rows": null,
            "height": null,
            "justify_content": null,
            "justify_items": null,
            "left": null,
            "margin": null,
            "max_height": null,
            "max_width": null,
            "min_height": null,
            "min_width": null,
            "object_fit": null,
            "object_position": null,
            "order": null,
            "overflow": null,
            "overflow_x": null,
            "overflow_y": null,
            "padding": null,
            "right": null,
            "top": null,
            "visibility": null,
            "width": null
          }
        },
        "d1666ca8be2247b4b11dc9da104e9339": {
          "model_module": "@jupyter-widgets/base",
          "model_name": "LayoutModel",
          "model_module_version": "1.2.0",
          "state": {
            "_model_module": "@jupyter-widgets/base",
            "_model_module_version": "1.2.0",
            "_model_name": "LayoutModel",
            "_view_count": null,
            "_view_module": "@jupyter-widgets/base",
            "_view_module_version": "1.2.0",
            "_view_name": "LayoutView",
            "align_content": null,
            "align_items": null,
            "align_self": null,
            "border": null,
            "bottom": null,
            "display": null,
            "flex": null,
            "flex_flow": null,
            "grid_area": null,
            "grid_auto_columns": null,
            "grid_auto_flow": null,
            "grid_auto_rows": null,
            "grid_column": null,
            "grid_gap": null,
            "grid_row": null,
            "grid_template_areas": null,
            "grid_template_columns": null,
            "grid_template_rows": null,
            "height": null,
            "justify_content": null,
            "justify_items": null,
            "left": null,
            "margin": null,
            "max_height": null,
            "max_width": null,
            "min_height": null,
            "min_width": null,
            "object_fit": null,
            "object_position": null,
            "order": null,
            "overflow": null,
            "overflow_x": null,
            "overflow_y": null,
            "padding": null,
            "right": null,
            "top": null,
            "visibility": null,
            "width": null
          }
        },
        "90d6cf36b4054d5092587d288ae0c780": {
          "model_module": "@jupyter-widgets/controls",
          "model_name": "DescriptionStyleModel",
          "model_module_version": "1.5.0",
          "state": {
            "_model_module": "@jupyter-widgets/controls",
            "_model_module_version": "1.5.0",
            "_model_name": "DescriptionStyleModel",
            "_view_count": null,
            "_view_module": "@jupyter-widgets/base",
            "_view_module_version": "1.2.0",
            "_view_name": "StyleView",
            "description_width": ""
          }
        },
        "65557332994844e8b0f1a340635c968e": {
          "model_module": "@jupyter-widgets/base",
          "model_name": "LayoutModel",
          "model_module_version": "1.2.0",
          "state": {
            "_model_module": "@jupyter-widgets/base",
            "_model_module_version": "1.2.0",
            "_model_name": "LayoutModel",
            "_view_count": null,
            "_view_module": "@jupyter-widgets/base",
            "_view_module_version": "1.2.0",
            "_view_name": "LayoutView",
            "align_content": null,
            "align_items": null,
            "align_self": null,
            "border": null,
            "bottom": null,
            "display": null,
            "flex": null,
            "flex_flow": null,
            "grid_area": null,
            "grid_auto_columns": null,
            "grid_auto_flow": null,
            "grid_auto_rows": null,
            "grid_column": null,
            "grid_gap": null,
            "grid_row": null,
            "grid_template_areas": null,
            "grid_template_columns": null,
            "grid_template_rows": null,
            "height": null,
            "justify_content": null,
            "justify_items": null,
            "left": null,
            "margin": null,
            "max_height": null,
            "max_width": null,
            "min_height": null,
            "min_width": null,
            "object_fit": null,
            "object_position": null,
            "order": null,
            "overflow": null,
            "overflow_x": null,
            "overflow_y": null,
            "padding": null,
            "right": null,
            "top": null,
            "visibility": null,
            "width": null
          }
        },
        "70cc22d2b3274d6082f9e3e60801f7f6": {
          "model_module": "@jupyter-widgets/controls",
          "model_name": "ProgressStyleModel",
          "model_module_version": "1.5.0",
          "state": {
            "_model_module": "@jupyter-widgets/controls",
            "_model_module_version": "1.5.0",
            "_model_name": "ProgressStyleModel",
            "_view_count": null,
            "_view_module": "@jupyter-widgets/base",
            "_view_module_version": "1.2.0",
            "_view_name": "StyleView",
            "bar_color": null,
            "description_width": ""
          }
        },
        "4ff88dce1baf44c4a398b31ca15cc464": {
          "model_module": "@jupyter-widgets/base",
          "model_name": "LayoutModel",
          "model_module_version": "1.2.0",
          "state": {
            "_model_module": "@jupyter-widgets/base",
            "_model_module_version": "1.2.0",
            "_model_name": "LayoutModel",
            "_view_count": null,
            "_view_module": "@jupyter-widgets/base",
            "_view_module_version": "1.2.0",
            "_view_name": "LayoutView",
            "align_content": null,
            "align_items": null,
            "align_self": null,
            "border": null,
            "bottom": null,
            "display": null,
            "flex": null,
            "flex_flow": null,
            "grid_area": null,
            "grid_auto_columns": null,
            "grid_auto_flow": null,
            "grid_auto_rows": null,
            "grid_column": null,
            "grid_gap": null,
            "grid_row": null,
            "grid_template_areas": null,
            "grid_template_columns": null,
            "grid_template_rows": null,
            "height": null,
            "justify_content": null,
            "justify_items": null,
            "left": null,
            "margin": null,
            "max_height": null,
            "max_width": null,
            "min_height": null,
            "min_width": null,
            "object_fit": null,
            "object_position": null,
            "order": null,
            "overflow": null,
            "overflow_x": null,
            "overflow_y": null,
            "padding": null,
            "right": null,
            "top": null,
            "visibility": null,
            "width": null
          }
        },
        "53b1964b19af4ed385b9bb57c6cfd806": {
          "model_module": "@jupyter-widgets/controls",
          "model_name": "DescriptionStyleModel",
          "model_module_version": "1.5.0",
          "state": {
            "_model_module": "@jupyter-widgets/controls",
            "_model_module_version": "1.5.0",
            "_model_name": "DescriptionStyleModel",
            "_view_count": null,
            "_view_module": "@jupyter-widgets/base",
            "_view_module_version": "1.2.0",
            "_view_name": "StyleView",
            "description_width": ""
          }
        },
        "ed8e66b676044cff99429eae408d5176": {
          "model_module": "@jupyter-widgets/controls",
          "model_name": "HBoxModel",
          "model_module_version": "1.5.0",
          "state": {
            "_dom_classes": [],
            "_model_module": "@jupyter-widgets/controls",
            "_model_module_version": "1.5.0",
            "_model_name": "HBoxModel",
            "_view_count": null,
            "_view_module": "@jupyter-widgets/controls",
            "_view_module_version": "1.5.0",
            "_view_name": "HBoxView",
            "box_style": "",
            "children": [
              "IPY_MODEL_d2d66eaf24c74b63a1b38afb3a9fb1d5",
              "IPY_MODEL_f49118bdbbb64432ae411a3c8b5046f8",
              "IPY_MODEL_ca73438dcd6c4a75a9f055338967d5ee"
            ],
            "layout": "IPY_MODEL_90dc53ac4b1e46dc87e1193cc78ff757"
          }
        },
        "d2d66eaf24c74b63a1b38afb3a9fb1d5": {
          "model_module": "@jupyter-widgets/controls",
          "model_name": "HTMLModel",
          "model_module_version": "1.5.0",
          "state": {
            "_dom_classes": [],
            "_model_module": "@jupyter-widgets/controls",
            "_model_module_version": "1.5.0",
            "_model_name": "HTMLModel",
            "_view_count": null,
            "_view_module": "@jupyter-widgets/controls",
            "_view_module_version": "1.5.0",
            "_view_name": "HTMLView",
            "description": "",
            "description_tooltip": null,
            "layout": "IPY_MODEL_148ea195129c4caab46493ea504a0af5",
            "placeholder": "​",
            "style": "IPY_MODEL_bc26bb3f35204ce39b8b87f91b9c3747",
            "value": "Generating train split: 100%"
          }
        },
        "f49118bdbbb64432ae411a3c8b5046f8": {
          "model_module": "@jupyter-widgets/controls",
          "model_name": "FloatProgressModel",
          "model_module_version": "1.5.0",
          "state": {
            "_dom_classes": [],
            "_model_module": "@jupyter-widgets/controls",
            "_model_module_version": "1.5.0",
            "_model_name": "FloatProgressModel",
            "_view_count": null,
            "_view_module": "@jupyter-widgets/controls",
            "_view_module_version": "1.5.0",
            "_view_name": "ProgressView",
            "bar_style": "success",
            "description": "",
            "description_tooltip": null,
            "layout": "IPY_MODEL_6bce60a34e894c2bbffa6400efcc2201",
            "max": 150000,
            "min": 0,
            "orientation": "horizontal",
            "style": "IPY_MODEL_e1c9878a5c574c1e96896624139f18bf",
            "value": 150000
          }
        },
        "ca73438dcd6c4a75a9f055338967d5ee": {
          "model_module": "@jupyter-widgets/controls",
          "model_name": "HTMLModel",
          "model_module_version": "1.5.0",
          "state": {
            "_dom_classes": [],
            "_model_module": "@jupyter-widgets/controls",
            "_model_module_version": "1.5.0",
            "_model_name": "HTMLModel",
            "_view_count": null,
            "_view_module": "@jupyter-widgets/controls",
            "_view_module_version": "1.5.0",
            "_view_name": "HTMLView",
            "description": "",
            "description_tooltip": null,
            "layout": "IPY_MODEL_a1923c2117d744efba95f467bf52f4db",
            "placeholder": "​",
            "style": "IPY_MODEL_dbc53c4e9b584ef28a4fab300e866796",
            "value": " 150000/150000 [00:00&lt;00:00, 299784.31 examples/s]"
          }
        },
        "90dc53ac4b1e46dc87e1193cc78ff757": {
          "model_module": "@jupyter-widgets/base",
          "model_name": "LayoutModel",
          "model_module_version": "1.2.0",
          "state": {
            "_model_module": "@jupyter-widgets/base",
            "_model_module_version": "1.2.0",
            "_model_name": "LayoutModel",
            "_view_count": null,
            "_view_module": "@jupyter-widgets/base",
            "_view_module_version": "1.2.0",
            "_view_name": "LayoutView",
            "align_content": null,
            "align_items": null,
            "align_self": null,
            "border": null,
            "bottom": null,
            "display": null,
            "flex": null,
            "flex_flow": null,
            "grid_area": null,
            "grid_auto_columns": null,
            "grid_auto_flow": null,
            "grid_auto_rows": null,
            "grid_column": null,
            "grid_gap": null,
            "grid_row": null,
            "grid_template_areas": null,
            "grid_template_columns": null,
            "grid_template_rows": null,
            "height": null,
            "justify_content": null,
            "justify_items": null,
            "left": null,
            "margin": null,
            "max_height": null,
            "max_width": null,
            "min_height": null,
            "min_width": null,
            "object_fit": null,
            "object_position": null,
            "order": null,
            "overflow": null,
            "overflow_x": null,
            "overflow_y": null,
            "padding": null,
            "right": null,
            "top": null,
            "visibility": null,
            "width": null
          }
        },
        "148ea195129c4caab46493ea504a0af5": {
          "model_module": "@jupyter-widgets/base",
          "model_name": "LayoutModel",
          "model_module_version": "1.2.0",
          "state": {
            "_model_module": "@jupyter-widgets/base",
            "_model_module_version": "1.2.0",
            "_model_name": "LayoutModel",
            "_view_count": null,
            "_view_module": "@jupyter-widgets/base",
            "_view_module_version": "1.2.0",
            "_view_name": "LayoutView",
            "align_content": null,
            "align_items": null,
            "align_self": null,
            "border": null,
            "bottom": null,
            "display": null,
            "flex": null,
            "flex_flow": null,
            "grid_area": null,
            "grid_auto_columns": null,
            "grid_auto_flow": null,
            "grid_auto_rows": null,
            "grid_column": null,
            "grid_gap": null,
            "grid_row": null,
            "grid_template_areas": null,
            "grid_template_columns": null,
            "grid_template_rows": null,
            "height": null,
            "justify_content": null,
            "justify_items": null,
            "left": null,
            "margin": null,
            "max_height": null,
            "max_width": null,
            "min_height": null,
            "min_width": null,
            "object_fit": null,
            "object_position": null,
            "order": null,
            "overflow": null,
            "overflow_x": null,
            "overflow_y": null,
            "padding": null,
            "right": null,
            "top": null,
            "visibility": null,
            "width": null
          }
        },
        "bc26bb3f35204ce39b8b87f91b9c3747": {
          "model_module": "@jupyter-widgets/controls",
          "model_name": "DescriptionStyleModel",
          "model_module_version": "1.5.0",
          "state": {
            "_model_module": "@jupyter-widgets/controls",
            "_model_module_version": "1.5.0",
            "_model_name": "DescriptionStyleModel",
            "_view_count": null,
            "_view_module": "@jupyter-widgets/base",
            "_view_module_version": "1.2.0",
            "_view_name": "StyleView",
            "description_width": ""
          }
        },
        "6bce60a34e894c2bbffa6400efcc2201": {
          "model_module": "@jupyter-widgets/base",
          "model_name": "LayoutModel",
          "model_module_version": "1.2.0",
          "state": {
            "_model_module": "@jupyter-widgets/base",
            "_model_module_version": "1.2.0",
            "_model_name": "LayoutModel",
            "_view_count": null,
            "_view_module": "@jupyter-widgets/base",
            "_view_module_version": "1.2.0",
            "_view_name": "LayoutView",
            "align_content": null,
            "align_items": null,
            "align_self": null,
            "border": null,
            "bottom": null,
            "display": null,
            "flex": null,
            "flex_flow": null,
            "grid_area": null,
            "grid_auto_columns": null,
            "grid_auto_flow": null,
            "grid_auto_rows": null,
            "grid_column": null,
            "grid_gap": null,
            "grid_row": null,
            "grid_template_areas": null,
            "grid_template_columns": null,
            "grid_template_rows": null,
            "height": null,
            "justify_content": null,
            "justify_items": null,
            "left": null,
            "margin": null,
            "max_height": null,
            "max_width": null,
            "min_height": null,
            "min_width": null,
            "object_fit": null,
            "object_position": null,
            "order": null,
            "overflow": null,
            "overflow_x": null,
            "overflow_y": null,
            "padding": null,
            "right": null,
            "top": null,
            "visibility": null,
            "width": null
          }
        },
        "e1c9878a5c574c1e96896624139f18bf": {
          "model_module": "@jupyter-widgets/controls",
          "model_name": "ProgressStyleModel",
          "model_module_version": "1.5.0",
          "state": {
            "_model_module": "@jupyter-widgets/controls",
            "_model_module_version": "1.5.0",
            "_model_name": "ProgressStyleModel",
            "_view_count": null,
            "_view_module": "@jupyter-widgets/base",
            "_view_module_version": "1.2.0",
            "_view_name": "StyleView",
            "bar_color": null,
            "description_width": ""
          }
        },
        "a1923c2117d744efba95f467bf52f4db": {
          "model_module": "@jupyter-widgets/base",
          "model_name": "LayoutModel",
          "model_module_version": "1.2.0",
          "state": {
            "_model_module": "@jupyter-widgets/base",
            "_model_module_version": "1.2.0",
            "_model_name": "LayoutModel",
            "_view_count": null,
            "_view_module": "@jupyter-widgets/base",
            "_view_module_version": "1.2.0",
            "_view_name": "LayoutView",
            "align_content": null,
            "align_items": null,
            "align_self": null,
            "border": null,
            "bottom": null,
            "display": null,
            "flex": null,
            "flex_flow": null,
            "grid_area": null,
            "grid_auto_columns": null,
            "grid_auto_flow": null,
            "grid_auto_rows": null,
            "grid_column": null,
            "grid_gap": null,
            "grid_row": null,
            "grid_template_areas": null,
            "grid_template_columns": null,
            "grid_template_rows": null,
            "height": null,
            "justify_content": null,
            "justify_items": null,
            "left": null,
            "margin": null,
            "max_height": null,
            "max_width": null,
            "min_height": null,
            "min_width": null,
            "object_fit": null,
            "object_position": null,
            "order": null,
            "overflow": null,
            "overflow_x": null,
            "overflow_y": null,
            "padding": null,
            "right": null,
            "top": null,
            "visibility": null,
            "width": null
          }
        },
        "dbc53c4e9b584ef28a4fab300e866796": {
          "model_module": "@jupyter-widgets/controls",
          "model_name": "DescriptionStyleModel",
          "model_module_version": "1.5.0",
          "state": {
            "_model_module": "@jupyter-widgets/controls",
            "_model_module_version": "1.5.0",
            "_model_name": "DescriptionStyleModel",
            "_view_count": null,
            "_view_module": "@jupyter-widgets/base",
            "_view_module_version": "1.2.0",
            "_view_name": "StyleView",
            "description_width": ""
          }
        },
        "a455fee73c4348869b92fd3e444fac62": {
          "model_module": "@jupyter-widgets/controls",
          "model_name": "HBoxModel",
          "model_module_version": "1.5.0",
          "state": {
            "_dom_classes": [],
            "_model_module": "@jupyter-widgets/controls",
            "_model_module_version": "1.5.0",
            "_model_name": "HBoxModel",
            "_view_count": null,
            "_view_module": "@jupyter-widgets/controls",
            "_view_module_version": "1.5.0",
            "_view_name": "HBoxView",
            "box_style": "",
            "children": [
              "IPY_MODEL_3a4e7e8f370c457cbefb1ac6190a64ba",
              "IPY_MODEL_078ee0b2a5094d33a4fcc1a2bff15b64",
              "IPY_MODEL_fe1265364cf24d8586671f5416bbc270"
            ],
            "layout": "IPY_MODEL_9d594c5060d545578eaff40427806219"
          }
        },
        "3a4e7e8f370c457cbefb1ac6190a64ba": {
          "model_module": "@jupyter-widgets/controls",
          "model_name": "HTMLModel",
          "model_module_version": "1.5.0",
          "state": {
            "_dom_classes": [],
            "_model_module": "@jupyter-widgets/controls",
            "_model_module_version": "1.5.0",
            "_model_name": "HTMLModel",
            "_view_count": null,
            "_view_module": "@jupyter-widgets/controls",
            "_view_module_version": "1.5.0",
            "_view_name": "HTMLView",
            "description": "",
            "description_tooltip": null,
            "layout": "IPY_MODEL_48ecbd89e4c24683a1c131b4401b99c5",
            "placeholder": "​",
            "style": "IPY_MODEL_27891027661148d6bc7a5e5b41ffa2a6",
            "value": "Generating test split: 100%"
          }
        },
        "078ee0b2a5094d33a4fcc1a2bff15b64": {
          "model_module": "@jupyter-widgets/controls",
          "model_name": "FloatProgressModel",
          "model_module_version": "1.5.0",
          "state": {
            "_dom_classes": [],
            "_model_module": "@jupyter-widgets/controls",
            "_model_module_version": "1.5.0",
            "_model_name": "FloatProgressModel",
            "_view_count": null,
            "_view_module": "@jupyter-widgets/controls",
            "_view_module_version": "1.5.0",
            "_view_name": "ProgressView",
            "bar_style": "success",
            "description": "",
            "description_tooltip": null,
            "layout": "IPY_MODEL_c61a47c6ea8d430babf1b8a2112428d6",
            "max": 50000,
            "min": 0,
            "orientation": "horizontal",
            "style": "IPY_MODEL_936030d62ad54686b5ddd8433cccb79d",
            "value": 50000
          }
        },
        "fe1265364cf24d8586671f5416bbc270": {
          "model_module": "@jupyter-widgets/controls",
          "model_name": "HTMLModel",
          "model_module_version": "1.5.0",
          "state": {
            "_dom_classes": [],
            "_model_module": "@jupyter-widgets/controls",
            "_model_module_version": "1.5.0",
            "_model_name": "HTMLModel",
            "_view_count": null,
            "_view_module": "@jupyter-widgets/controls",
            "_view_module_version": "1.5.0",
            "_view_name": "HTMLView",
            "description": "",
            "description_tooltip": null,
            "layout": "IPY_MODEL_42abc8c413cf42c5ab95caecdd965e5b",
            "placeholder": "​",
            "style": "IPY_MODEL_bc56a43efbc74fb2a231bd54b3af5ed0",
            "value": " 50000/50000 [00:00&lt;00:00, 175163.39 examples/s]"
          }
        },
        "9d594c5060d545578eaff40427806219": {
          "model_module": "@jupyter-widgets/base",
          "model_name": "LayoutModel",
          "model_module_version": "1.2.0",
          "state": {
            "_model_module": "@jupyter-widgets/base",
            "_model_module_version": "1.2.0",
            "_model_name": "LayoutModel",
            "_view_count": null,
            "_view_module": "@jupyter-widgets/base",
            "_view_module_version": "1.2.0",
            "_view_name": "LayoutView",
            "align_content": null,
            "align_items": null,
            "align_self": null,
            "border": null,
            "bottom": null,
            "display": null,
            "flex": null,
            "flex_flow": null,
            "grid_area": null,
            "grid_auto_columns": null,
            "grid_auto_flow": null,
            "grid_auto_rows": null,
            "grid_column": null,
            "grid_gap": null,
            "grid_row": null,
            "grid_template_areas": null,
            "grid_template_columns": null,
            "grid_template_rows": null,
            "height": null,
            "justify_content": null,
            "justify_items": null,
            "left": null,
            "margin": null,
            "max_height": null,
            "max_width": null,
            "min_height": null,
            "min_width": null,
            "object_fit": null,
            "object_position": null,
            "order": null,
            "overflow": null,
            "overflow_x": null,
            "overflow_y": null,
            "padding": null,
            "right": null,
            "top": null,
            "visibility": null,
            "width": null
          }
        },
        "48ecbd89e4c24683a1c131b4401b99c5": {
          "model_module": "@jupyter-widgets/base",
          "model_name": "LayoutModel",
          "model_module_version": "1.2.0",
          "state": {
            "_model_module": "@jupyter-widgets/base",
            "_model_module_version": "1.2.0",
            "_model_name": "LayoutModel",
            "_view_count": null,
            "_view_module": "@jupyter-widgets/base",
            "_view_module_version": "1.2.0",
            "_view_name": "LayoutView",
            "align_content": null,
            "align_items": null,
            "align_self": null,
            "border": null,
            "bottom": null,
            "display": null,
            "flex": null,
            "flex_flow": null,
            "grid_area": null,
            "grid_auto_columns": null,
            "grid_auto_flow": null,
            "grid_auto_rows": null,
            "grid_column": null,
            "grid_gap": null,
            "grid_row": null,
            "grid_template_areas": null,
            "grid_template_columns": null,
            "grid_template_rows": null,
            "height": null,
            "justify_content": null,
            "justify_items": null,
            "left": null,
            "margin": null,
            "max_height": null,
            "max_width": null,
            "min_height": null,
            "min_width": null,
            "object_fit": null,
            "object_position": null,
            "order": null,
            "overflow": null,
            "overflow_x": null,
            "overflow_y": null,
            "padding": null,
            "right": null,
            "top": null,
            "visibility": null,
            "width": null
          }
        },
        "27891027661148d6bc7a5e5b41ffa2a6": {
          "model_module": "@jupyter-widgets/controls",
          "model_name": "DescriptionStyleModel",
          "model_module_version": "1.5.0",
          "state": {
            "_model_module": "@jupyter-widgets/controls",
            "_model_module_version": "1.5.0",
            "_model_name": "DescriptionStyleModel",
            "_view_count": null,
            "_view_module": "@jupyter-widgets/base",
            "_view_module_version": "1.2.0",
            "_view_name": "StyleView",
            "description_width": ""
          }
        },
        "c61a47c6ea8d430babf1b8a2112428d6": {
          "model_module": "@jupyter-widgets/base",
          "model_name": "LayoutModel",
          "model_module_version": "1.2.0",
          "state": {
            "_model_module": "@jupyter-widgets/base",
            "_model_module_version": "1.2.0",
            "_model_name": "LayoutModel",
            "_view_count": null,
            "_view_module": "@jupyter-widgets/base",
            "_view_module_version": "1.2.0",
            "_view_name": "LayoutView",
            "align_content": null,
            "align_items": null,
            "align_self": null,
            "border": null,
            "bottom": null,
            "display": null,
            "flex": null,
            "flex_flow": null,
            "grid_area": null,
            "grid_auto_columns": null,
            "grid_auto_flow": null,
            "grid_auto_rows": null,
            "grid_column": null,
            "grid_gap": null,
            "grid_row": null,
            "grid_template_areas": null,
            "grid_template_columns": null,
            "grid_template_rows": null,
            "height": null,
            "justify_content": null,
            "justify_items": null,
            "left": null,
            "margin": null,
            "max_height": null,
            "max_width": null,
            "min_height": null,
            "min_width": null,
            "object_fit": null,
            "object_position": null,
            "order": null,
            "overflow": null,
            "overflow_x": null,
            "overflow_y": null,
            "padding": null,
            "right": null,
            "top": null,
            "visibility": null,
            "width": null
          }
        },
        "936030d62ad54686b5ddd8433cccb79d": {
          "model_module": "@jupyter-widgets/controls",
          "model_name": "ProgressStyleModel",
          "model_module_version": "1.5.0",
          "state": {
            "_model_module": "@jupyter-widgets/controls",
            "_model_module_version": "1.5.0",
            "_model_name": "ProgressStyleModel",
            "_view_count": null,
            "_view_module": "@jupyter-widgets/base",
            "_view_module_version": "1.2.0",
            "_view_name": "StyleView",
            "bar_color": null,
            "description_width": ""
          }
        },
        "42abc8c413cf42c5ab95caecdd965e5b": {
          "model_module": "@jupyter-widgets/base",
          "model_name": "LayoutModel",
          "model_module_version": "1.2.0",
          "state": {
            "_model_module": "@jupyter-widgets/base",
            "_model_module_version": "1.2.0",
            "_model_name": "LayoutModel",
            "_view_count": null,
            "_view_module": "@jupyter-widgets/base",
            "_view_module_version": "1.2.0",
            "_view_name": "LayoutView",
            "align_content": null,
            "align_items": null,
            "align_self": null,
            "border": null,
            "bottom": null,
            "display": null,
            "flex": null,
            "flex_flow": null,
            "grid_area": null,
            "grid_auto_columns": null,
            "grid_auto_flow": null,
            "grid_auto_rows": null,
            "grid_column": null,
            "grid_gap": null,
            "grid_row": null,
            "grid_template_areas": null,
            "grid_template_columns": null,
            "grid_template_rows": null,
            "height": null,
            "justify_content": null,
            "justify_items": null,
            "left": null,
            "margin": null,
            "max_height": null,
            "max_width": null,
            "min_height": null,
            "min_width": null,
            "object_fit": null,
            "object_position": null,
            "order": null,
            "overflow": null,
            "overflow_x": null,
            "overflow_y": null,
            "padding": null,
            "right": null,
            "top": null,
            "visibility": null,
            "width": null
          }
        },
        "bc56a43efbc74fb2a231bd54b3af5ed0": {
          "model_module": "@jupyter-widgets/controls",
          "model_name": "DescriptionStyleModel",
          "model_module_version": "1.5.0",
          "state": {
            "_model_module": "@jupyter-widgets/controls",
            "_model_module_version": "1.5.0",
            "_model_name": "DescriptionStyleModel",
            "_view_count": null,
            "_view_module": "@jupyter-widgets/base",
            "_view_module_version": "1.2.0",
            "_view_name": "StyleView",
            "description_width": ""
          }
        }
      }
    }
  },
  "nbformat": 4,
  "nbformat_minor": 0
}